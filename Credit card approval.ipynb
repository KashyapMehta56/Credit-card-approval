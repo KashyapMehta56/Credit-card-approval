{
 "cells": [
  {
   "cell_type": "markdown",
   "id": "91693447",
   "metadata": {},
   "source": [
    "# predict credit card approval\n",
    "\n"
   ]
  },
  {
   "cell_type": "markdown",
   "id": "21511751",
   "metadata": {},
   "source": [
    "# section 1 question answer"
   ]
  },
  {
   "cell_type": "markdown",
   "id": "5cd1762e",
   "metadata": {},
   "source": [
    "Q1. Why is your proposal important in today’s world? How predicting a good client is worthy for a bank?  \n",
    "\n",
    "\n",
    "To address the rising credit card defaults amounting to Rs 4,072 crore or 1.94 percent at the end of March 2023, as reported by the RBI, it is crucial to implement a credit evaluation system capable of identifying creditworthy customers. By minimizing default amounts, the recovered funds can be redirected towards other developmental and social needs.\n",
    "In banking terms, credit cards and loans are considered assets of the bank. However, due to the misfinancial behavior of some customers, these assets can transform into non-performing assets. By accurately predicting creditworthiness, we can provide financial strength to the bank, mitigating the impact of non-performing assets.\n",
    "\n",
    "\n",
    "\n",
    "\n",
    "\n",
    "\n",
    "\n"
   ]
  },
  {
   "cell_type": "markdown",
   "id": "c36fe7a0",
   "metadata": {},
   "source": [
    "Q2.How is it going to impact the banking sector? \n",
    "In banking terms, credit cards and loans are considered assets of the bank. However, due to the misfinancial behavior of some customers, these assets can transform into non-performing assets. By using this Creditcard approval model we can able predict creditworthiness, we can provide financial strength to the bank, mitigating the impact of non-performing assets.\n",
    "\n",
    " \n",
    "\n"
   ]
  },
  {
   "cell_type": "markdown",
   "id": "19f48ec3",
   "metadata": {},
   "source": [
    "Q3. If any, what is the gap in the knowledge or how your proposed method can be helpful if required in future for any bank in India.\n",
    "As we discuss in previous question that credit card defaults is 1.94% in March 2023. This prediction is helpful in mitigate this\n",
    "problem . The method has the potential to adapt to changing trends and improve customer satisfaction through a more personalized approach.Apart from that we need to engage with local authority to implement with kind of model on large scale.\n",
    "\n",
    "\n"
   ]
  },
  {
   "cell_type": "code",
   "execution_count": 2,
   "id": "9367abf3",
   "metadata": {
    "ExecuteTime": {
     "end_time": "2024-01-26T08:51:32.000285Z",
     "start_time": "2024-01-26T08:51:19.553233Z"
    }
   },
   "outputs": [],
   "source": [
    "# importing required dependencencies \n",
    "\n",
    "import pandas as pd \n",
    "import numpy as np \n",
    "import matplotlib.pyplot as plt \n",
    "import seaborn as sns \n",
    "from sklearn.model_selection import train_test_split\n",
    "from sklearn.linear_model import LogisticRegression \n",
    "from sklearn.metrics import accuracy_score "
   ]
  },
  {
   "cell_type": "markdown",
   "id": "1d16f954",
   "metadata": {},
   "source": [
    "\n",
    "## Reading the csv file and merging ."
   ]
  },
  {
   "cell_type": "code",
   "execution_count": 3,
   "id": "2f30512e",
   "metadata": {
    "ExecuteTime": {
     "end_time": "2024-01-26T08:51:32.135298Z",
     "start_time": "2024-01-26T08:51:32.011874Z"
    }
   },
   "outputs": [
    {
     "data": {
      "text/html": [
       "<div>\n",
       "<style scoped>\n",
       "    .dataframe tbody tr th:only-of-type {\n",
       "        vertical-align: middle;\n",
       "    }\n",
       "\n",
       "    .dataframe tbody tr th {\n",
       "        vertical-align: top;\n",
       "    }\n",
       "\n",
       "    .dataframe thead th {\n",
       "        text-align: right;\n",
       "    }\n",
       "</style>\n",
       "<table border=\"1\" class=\"dataframe\">\n",
       "  <thead>\n",
       "    <tr style=\"text-align: right;\">\n",
       "      <th></th>\n",
       "      <th>Ind_ID</th>\n",
       "      <th>GENDER</th>\n",
       "      <th>Car_Owner</th>\n",
       "      <th>Propert_Owner</th>\n",
       "      <th>CHILDREN</th>\n",
       "      <th>Annual_income</th>\n",
       "      <th>Type_Income</th>\n",
       "      <th>EDUCATION</th>\n",
       "      <th>Marital_status</th>\n",
       "      <th>Housing_type</th>\n",
       "      <th>Birthday_count</th>\n",
       "      <th>Employed_days</th>\n",
       "      <th>Mobile_phone</th>\n",
       "      <th>Work_Phone</th>\n",
       "      <th>Phone</th>\n",
       "      <th>EMAIL_ID</th>\n",
       "      <th>Type_Occupation</th>\n",
       "      <th>Family_Members</th>\n",
       "      <th>label</th>\n",
       "    </tr>\n",
       "  </thead>\n",
       "  <tbody>\n",
       "    <tr>\n",
       "      <th>0</th>\n",
       "      <td>5008827</td>\n",
       "      <td>M</td>\n",
       "      <td>Y</td>\n",
       "      <td>Y</td>\n",
       "      <td>0</td>\n",
       "      <td>180000.0</td>\n",
       "      <td>Pensioner</td>\n",
       "      <td>Higher education</td>\n",
       "      <td>Married</td>\n",
       "      <td>House / apartment</td>\n",
       "      <td>-18772.0</td>\n",
       "      <td>365243</td>\n",
       "      <td>1</td>\n",
       "      <td>0</td>\n",
       "      <td>0</td>\n",
       "      <td>0</td>\n",
       "      <td>NaN</td>\n",
       "      <td>2</td>\n",
       "      <td>1</td>\n",
       "    </tr>\n",
       "    <tr>\n",
       "      <th>1</th>\n",
       "      <td>5009744</td>\n",
       "      <td>F</td>\n",
       "      <td>Y</td>\n",
       "      <td>N</td>\n",
       "      <td>0</td>\n",
       "      <td>315000.0</td>\n",
       "      <td>Commercial associate</td>\n",
       "      <td>Higher education</td>\n",
       "      <td>Married</td>\n",
       "      <td>House / apartment</td>\n",
       "      <td>-13557.0</td>\n",
       "      <td>-586</td>\n",
       "      <td>1</td>\n",
       "      <td>1</td>\n",
       "      <td>1</td>\n",
       "      <td>0</td>\n",
       "      <td>NaN</td>\n",
       "      <td>2</td>\n",
       "      <td>1</td>\n",
       "    </tr>\n",
       "    <tr>\n",
       "      <th>2</th>\n",
       "      <td>5009746</td>\n",
       "      <td>F</td>\n",
       "      <td>Y</td>\n",
       "      <td>N</td>\n",
       "      <td>0</td>\n",
       "      <td>315000.0</td>\n",
       "      <td>Commercial associate</td>\n",
       "      <td>Higher education</td>\n",
       "      <td>Married</td>\n",
       "      <td>House / apartment</td>\n",
       "      <td>NaN</td>\n",
       "      <td>-586</td>\n",
       "      <td>1</td>\n",
       "      <td>1</td>\n",
       "      <td>1</td>\n",
       "      <td>0</td>\n",
       "      <td>NaN</td>\n",
       "      <td>2</td>\n",
       "      <td>1</td>\n",
       "    </tr>\n",
       "    <tr>\n",
       "      <th>3</th>\n",
       "      <td>5009749</td>\n",
       "      <td>F</td>\n",
       "      <td>Y</td>\n",
       "      <td>N</td>\n",
       "      <td>0</td>\n",
       "      <td>NaN</td>\n",
       "      <td>Commercial associate</td>\n",
       "      <td>Higher education</td>\n",
       "      <td>Married</td>\n",
       "      <td>House / apartment</td>\n",
       "      <td>-13557.0</td>\n",
       "      <td>-586</td>\n",
       "      <td>1</td>\n",
       "      <td>1</td>\n",
       "      <td>1</td>\n",
       "      <td>0</td>\n",
       "      <td>NaN</td>\n",
       "      <td>2</td>\n",
       "      <td>1</td>\n",
       "    </tr>\n",
       "    <tr>\n",
       "      <th>4</th>\n",
       "      <td>5009752</td>\n",
       "      <td>F</td>\n",
       "      <td>Y</td>\n",
       "      <td>N</td>\n",
       "      <td>0</td>\n",
       "      <td>315000.0</td>\n",
       "      <td>Commercial associate</td>\n",
       "      <td>Higher education</td>\n",
       "      <td>Married</td>\n",
       "      <td>House / apartment</td>\n",
       "      <td>-13557.0</td>\n",
       "      <td>-586</td>\n",
       "      <td>1</td>\n",
       "      <td>1</td>\n",
       "      <td>1</td>\n",
       "      <td>0</td>\n",
       "      <td>NaN</td>\n",
       "      <td>2</td>\n",
       "      <td>1</td>\n",
       "    </tr>\n",
       "    <tr>\n",
       "      <th>...</th>\n",
       "      <td>...</td>\n",
       "      <td>...</td>\n",
       "      <td>...</td>\n",
       "      <td>...</td>\n",
       "      <td>...</td>\n",
       "      <td>...</td>\n",
       "      <td>...</td>\n",
       "      <td>...</td>\n",
       "      <td>...</td>\n",
       "      <td>...</td>\n",
       "      <td>...</td>\n",
       "      <td>...</td>\n",
       "      <td>...</td>\n",
       "      <td>...</td>\n",
       "      <td>...</td>\n",
       "      <td>...</td>\n",
       "      <td>...</td>\n",
       "      <td>...</td>\n",
       "      <td>...</td>\n",
       "    </tr>\n",
       "    <tr>\n",
       "      <th>1543</th>\n",
       "      <td>5028645</td>\n",
       "      <td>F</td>\n",
       "      <td>N</td>\n",
       "      <td>Y</td>\n",
       "      <td>0</td>\n",
       "      <td>NaN</td>\n",
       "      <td>Commercial associate</td>\n",
       "      <td>Higher education</td>\n",
       "      <td>Married</td>\n",
       "      <td>House / apartment</td>\n",
       "      <td>-11957.0</td>\n",
       "      <td>-2182</td>\n",
       "      <td>1</td>\n",
       "      <td>0</td>\n",
       "      <td>0</td>\n",
       "      <td>0</td>\n",
       "      <td>Managers</td>\n",
       "      <td>2</td>\n",
       "      <td>0</td>\n",
       "    </tr>\n",
       "    <tr>\n",
       "      <th>1544</th>\n",
       "      <td>5023655</td>\n",
       "      <td>F</td>\n",
       "      <td>N</td>\n",
       "      <td>N</td>\n",
       "      <td>0</td>\n",
       "      <td>225000.0</td>\n",
       "      <td>Commercial associate</td>\n",
       "      <td>Incomplete higher</td>\n",
       "      <td>Single / not married</td>\n",
       "      <td>House / apartment</td>\n",
       "      <td>-10229.0</td>\n",
       "      <td>-1209</td>\n",
       "      <td>1</td>\n",
       "      <td>0</td>\n",
       "      <td>0</td>\n",
       "      <td>0</td>\n",
       "      <td>Accountants</td>\n",
       "      <td>1</td>\n",
       "      <td>0</td>\n",
       "    </tr>\n",
       "    <tr>\n",
       "      <th>1545</th>\n",
       "      <td>5115992</td>\n",
       "      <td>M</td>\n",
       "      <td>Y</td>\n",
       "      <td>Y</td>\n",
       "      <td>2</td>\n",
       "      <td>180000.0</td>\n",
       "      <td>Working</td>\n",
       "      <td>Higher education</td>\n",
       "      <td>Married</td>\n",
       "      <td>House / apartment</td>\n",
       "      <td>-13174.0</td>\n",
       "      <td>-2477</td>\n",
       "      <td>1</td>\n",
       "      <td>0</td>\n",
       "      <td>0</td>\n",
       "      <td>0</td>\n",
       "      <td>Managers</td>\n",
       "      <td>4</td>\n",
       "      <td>0</td>\n",
       "    </tr>\n",
       "    <tr>\n",
       "      <th>1546</th>\n",
       "      <td>5118219</td>\n",
       "      <td>M</td>\n",
       "      <td>Y</td>\n",
       "      <td>N</td>\n",
       "      <td>0</td>\n",
       "      <td>270000.0</td>\n",
       "      <td>Working</td>\n",
       "      <td>Secondary / secondary special</td>\n",
       "      <td>Civil marriage</td>\n",
       "      <td>House / apartment</td>\n",
       "      <td>-15292.0</td>\n",
       "      <td>-645</td>\n",
       "      <td>1</td>\n",
       "      <td>1</td>\n",
       "      <td>1</td>\n",
       "      <td>0</td>\n",
       "      <td>Drivers</td>\n",
       "      <td>2</td>\n",
       "      <td>0</td>\n",
       "    </tr>\n",
       "    <tr>\n",
       "      <th>1547</th>\n",
       "      <td>5053790</td>\n",
       "      <td>F</td>\n",
       "      <td>Y</td>\n",
       "      <td>Y</td>\n",
       "      <td>0</td>\n",
       "      <td>225000.0</td>\n",
       "      <td>Working</td>\n",
       "      <td>Higher education</td>\n",
       "      <td>Married</td>\n",
       "      <td>House / apartment</td>\n",
       "      <td>-16601.0</td>\n",
       "      <td>-2859</td>\n",
       "      <td>1</td>\n",
       "      <td>0</td>\n",
       "      <td>0</td>\n",
       "      <td>0</td>\n",
       "      <td>NaN</td>\n",
       "      <td>2</td>\n",
       "      <td>0</td>\n",
       "    </tr>\n",
       "  </tbody>\n",
       "</table>\n",
       "<p>1548 rows × 19 columns</p>\n",
       "</div>"
      ],
      "text/plain": [
       "       Ind_ID GENDER Car_Owner Propert_Owner  CHILDREN  Annual_income  \\\n",
       "0     5008827      M         Y             Y         0       180000.0   \n",
       "1     5009744      F         Y             N         0       315000.0   \n",
       "2     5009746      F         Y             N         0       315000.0   \n",
       "3     5009749      F         Y             N         0            NaN   \n",
       "4     5009752      F         Y             N         0       315000.0   \n",
       "...       ...    ...       ...           ...       ...            ...   \n",
       "1543  5028645      F         N             Y         0            NaN   \n",
       "1544  5023655      F         N             N         0       225000.0   \n",
       "1545  5115992      M         Y             Y         2       180000.0   \n",
       "1546  5118219      M         Y             N         0       270000.0   \n",
       "1547  5053790      F         Y             Y         0       225000.0   \n",
       "\n",
       "               Type_Income                      EDUCATION  \\\n",
       "0                Pensioner               Higher education   \n",
       "1     Commercial associate               Higher education   \n",
       "2     Commercial associate               Higher education   \n",
       "3     Commercial associate               Higher education   \n",
       "4     Commercial associate               Higher education   \n",
       "...                    ...                            ...   \n",
       "1543  Commercial associate               Higher education   \n",
       "1544  Commercial associate              Incomplete higher   \n",
       "1545               Working               Higher education   \n",
       "1546               Working  Secondary / secondary special   \n",
       "1547               Working               Higher education   \n",
       "\n",
       "            Marital_status       Housing_type  Birthday_count  Employed_days  \\\n",
       "0                  Married  House / apartment        -18772.0         365243   \n",
       "1                  Married  House / apartment        -13557.0           -586   \n",
       "2                  Married  House / apartment             NaN           -586   \n",
       "3                  Married  House / apartment        -13557.0           -586   \n",
       "4                  Married  House / apartment        -13557.0           -586   \n",
       "...                    ...                ...             ...            ...   \n",
       "1543               Married  House / apartment        -11957.0          -2182   \n",
       "1544  Single / not married  House / apartment        -10229.0          -1209   \n",
       "1545               Married  House / apartment        -13174.0          -2477   \n",
       "1546        Civil marriage  House / apartment        -15292.0           -645   \n",
       "1547               Married  House / apartment        -16601.0          -2859   \n",
       "\n",
       "      Mobile_phone  Work_Phone  Phone  EMAIL_ID Type_Occupation  \\\n",
       "0                1           0      0         0             NaN   \n",
       "1                1           1      1         0             NaN   \n",
       "2                1           1      1         0             NaN   \n",
       "3                1           1      1         0             NaN   \n",
       "4                1           1      1         0             NaN   \n",
       "...            ...         ...    ...       ...             ...   \n",
       "1543             1           0      0         0        Managers   \n",
       "1544             1           0      0         0     Accountants   \n",
       "1545             1           0      0         0        Managers   \n",
       "1546             1           1      1         0         Drivers   \n",
       "1547             1           0      0         0             NaN   \n",
       "\n",
       "      Family_Members  label  \n",
       "0                  2      1  \n",
       "1                  2      1  \n",
       "2                  2      1  \n",
       "3                  2      1  \n",
       "4                  2      1  \n",
       "...              ...    ...  \n",
       "1543               2      0  \n",
       "1544               1      0  \n",
       "1545               4      0  \n",
       "1546               2      0  \n",
       "1547               2      0  \n",
       "\n",
       "[1548 rows x 19 columns]"
      ]
     },
     "execution_count": 3,
     "metadata": {},
     "output_type": "execute_result"
    }
   ],
   "source": [
    "df = pd.read_csv('Credit_card.csv')\n",
    "df1 = pd.read_csv('Credit_card_label.csv')\n",
    "df.head()\n",
    "# merging two dataframe\n",
    "df2 = df.merge(df1)\n",
    "df2"
   ]
  },
  {
   "cell_type": "markdown",
   "id": "ef5186e9",
   "metadata": {},
   "source": [
    "# Process of the data cleaning"
   ]
  },
  {
   "cell_type": "code",
   "execution_count": 4,
   "id": "cdd1bdab",
   "metadata": {
    "ExecuteTime": {
     "end_time": "2024-01-26T08:51:32.170400Z",
     "start_time": "2024-01-26T08:51:32.138308Z"
    }
   },
   "outputs": [
    {
     "name": "stdout",
     "output_type": "stream",
     "text": [
      "<class 'pandas.core.frame.DataFrame'>\n",
      "RangeIndex: 1548 entries, 0 to 1547\n",
      "Data columns (total 19 columns):\n",
      " #   Column           Non-Null Count  Dtype  \n",
      "---  ------           --------------  -----  \n",
      " 0   Ind_ID           1548 non-null   int64  \n",
      " 1   GENDER           1541 non-null   object \n",
      " 2   Car_Owner        1548 non-null   object \n",
      " 3   Propert_Owner    1548 non-null   object \n",
      " 4   CHILDREN         1548 non-null   int64  \n",
      " 5   Annual_income    1525 non-null   float64\n",
      " 6   Type_Income      1548 non-null   object \n",
      " 7   EDUCATION        1548 non-null   object \n",
      " 8   Marital_status   1548 non-null   object \n",
      " 9   Housing_type     1548 non-null   object \n",
      " 10  Birthday_count   1526 non-null   float64\n",
      " 11  Employed_days    1548 non-null   int64  \n",
      " 12  Mobile_phone     1548 non-null   int64  \n",
      " 13  Work_Phone       1548 non-null   int64  \n",
      " 14  Phone            1548 non-null   int64  \n",
      " 15  EMAIL_ID         1548 non-null   int64  \n",
      " 16  Type_Occupation  1060 non-null   object \n",
      " 17  Family_Members   1548 non-null   int64  \n",
      " 18  label            1548 non-null   int64  \n",
      "dtypes: float64(2), int64(9), object(8)\n",
      "memory usage: 229.9+ KB\n"
     ]
    }
   ],
   "source": [
    "df2.info()"
   ]
  },
  {
   "cell_type": "code",
   "execution_count": 5,
   "id": "19cea4de",
   "metadata": {
    "ExecuteTime": {
     "end_time": "2024-01-26T08:51:32.189378Z",
     "start_time": "2024-01-26T08:51:32.178878Z"
    }
   },
   "outputs": [],
   "source": [
    "# REMOVEING UNNECESSARY COLUMN FROM DATASET\n",
    "columns_to_remove = ['Phone', 'Work_Phone', 'EMAIL_ID','Mobile_phone']\n",
    "\n",
    "# Use the drop method to remove the specified columns\n",
    "df2.drop(columns=columns_to_remove, inplace=True)\n"
   ]
  },
  {
   "cell_type": "code",
   "execution_count": 6,
   "id": "f4aeb51a",
   "metadata": {
    "ExecuteTime": {
     "end_time": "2024-01-26T08:51:32.232411Z",
     "start_time": "2024-01-26T08:51:32.195208Z"
    }
   },
   "outputs": [
    {
     "name": "stdout",
     "output_type": "stream",
     "text": [
      "<class 'pandas.core.frame.DataFrame'>\n",
      "RangeIndex: 1548 entries, 0 to 1547\n",
      "Data columns (total 15 columns):\n",
      " #   Column           Non-Null Count  Dtype  \n",
      "---  ------           --------------  -----  \n",
      " 0   Ind_ID           1548 non-null   int64  \n",
      " 1   GENDER           1541 non-null   object \n",
      " 2   Car_Owner        1548 non-null   object \n",
      " 3   Propert_Owner    1548 non-null   object \n",
      " 4   CHILDREN         1548 non-null   int64  \n",
      " 5   Annual_income    1525 non-null   float64\n",
      " 6   Type_Income      1548 non-null   object \n",
      " 7   EDUCATION        1548 non-null   object \n",
      " 8   Marital_status   1548 non-null   object \n",
      " 9   Housing_type     1548 non-null   object \n",
      " 10  Birthday_count   1526 non-null   float64\n",
      " 11  Employed_days    1548 non-null   int64  \n",
      " 12  Type_Occupation  1060 non-null   object \n",
      " 13  Family_Members   1548 non-null   int64  \n",
      " 14  label            1548 non-null   int64  \n",
      "dtypes: float64(2), int64(5), object(8)\n",
      "memory usage: 181.5+ KB\n"
     ]
    }
   ],
   "source": [
    "\n",
    "\n",
    "df2.info()\n",
    "\n"
   ]
  },
  {
   "cell_type": "markdown",
   "id": "db54aed1",
   "metadata": {},
   "source": [
    "## filling the missing value"
   ]
  },
  {
   "cell_type": "code",
   "execution_count": 7,
   "id": "c2b7fc82",
   "metadata": {
    "ExecuteTime": {
     "end_time": "2024-01-26T08:51:32.292938Z",
     "start_time": "2024-01-26T08:51:32.233933Z"
    }
   },
   "outputs": [
    {
     "data": {
      "text/html": [
       "<div>\n",
       "<style scoped>\n",
       "    .dataframe tbody tr th:only-of-type {\n",
       "        vertical-align: middle;\n",
       "    }\n",
       "\n",
       "    .dataframe tbody tr th {\n",
       "        vertical-align: top;\n",
       "    }\n",
       "\n",
       "    .dataframe thead th {\n",
       "        text-align: right;\n",
       "    }\n",
       "</style>\n",
       "<table border=\"1\" class=\"dataframe\">\n",
       "  <thead>\n",
       "    <tr style=\"text-align: right;\">\n",
       "      <th></th>\n",
       "      <th>Ind_ID</th>\n",
       "      <th>GENDER</th>\n",
       "      <th>Car_Owner</th>\n",
       "      <th>Propert_Owner</th>\n",
       "      <th>CHILDREN</th>\n",
       "      <th>Annual_income</th>\n",
       "      <th>Type_Income</th>\n",
       "      <th>EDUCATION</th>\n",
       "      <th>Marital_status</th>\n",
       "      <th>Housing_type</th>\n",
       "      <th>Birthday_count</th>\n",
       "      <th>Employed_days</th>\n",
       "      <th>Type_Occupation</th>\n",
       "      <th>Family_Members</th>\n",
       "      <th>label</th>\n",
       "      <th>Age</th>\n",
       "    </tr>\n",
       "  </thead>\n",
       "  <tbody>\n",
       "    <tr>\n",
       "      <th>0</th>\n",
       "      <td>5008827</td>\n",
       "      <td>M</td>\n",
       "      <td>Y</td>\n",
       "      <td>Y</td>\n",
       "      <td>0</td>\n",
       "      <td>180000.0</td>\n",
       "      <td>Pensioner</td>\n",
       "      <td>Higher education</td>\n",
       "      <td>Married</td>\n",
       "      <td>House / apartment</td>\n",
       "      <td>-18772.0</td>\n",
       "      <td>365243</td>\n",
       "      <td>Unknown</td>\n",
       "      <td>2</td>\n",
       "      <td>1</td>\n",
       "      <td>51.0</td>\n",
       "    </tr>\n",
       "    <tr>\n",
       "      <th>1</th>\n",
       "      <td>5009744</td>\n",
       "      <td>F</td>\n",
       "      <td>Y</td>\n",
       "      <td>N</td>\n",
       "      <td>0</td>\n",
       "      <td>315000.0</td>\n",
       "      <td>Commercial associate</td>\n",
       "      <td>Higher education</td>\n",
       "      <td>Married</td>\n",
       "      <td>House / apartment</td>\n",
       "      <td>-13557.0</td>\n",
       "      <td>-586</td>\n",
       "      <td>Unknown</td>\n",
       "      <td>2</td>\n",
       "      <td>1</td>\n",
       "      <td>37.0</td>\n",
       "    </tr>\n",
       "    <tr>\n",
       "      <th>2</th>\n",
       "      <td>5009746</td>\n",
       "      <td>F</td>\n",
       "      <td>Y</td>\n",
       "      <td>N</td>\n",
       "      <td>0</td>\n",
       "      <td>315000.0</td>\n",
       "      <td>Commercial associate</td>\n",
       "      <td>Higher education</td>\n",
       "      <td>Married</td>\n",
       "      <td>House / apartment</td>\n",
       "      <td>-15661.5</td>\n",
       "      <td>-586</td>\n",
       "      <td>Unknown</td>\n",
       "      <td>2</td>\n",
       "      <td>1</td>\n",
       "      <td>42.0</td>\n",
       "    </tr>\n",
       "    <tr>\n",
       "      <th>3</th>\n",
       "      <td>5009749</td>\n",
       "      <td>F</td>\n",
       "      <td>Y</td>\n",
       "      <td>N</td>\n",
       "      <td>0</td>\n",
       "      <td>166500.0</td>\n",
       "      <td>Commercial associate</td>\n",
       "      <td>Higher education</td>\n",
       "      <td>Married</td>\n",
       "      <td>House / apartment</td>\n",
       "      <td>-13557.0</td>\n",
       "      <td>-586</td>\n",
       "      <td>Unknown</td>\n",
       "      <td>2</td>\n",
       "      <td>1</td>\n",
       "      <td>37.0</td>\n",
       "    </tr>\n",
       "    <tr>\n",
       "      <th>4</th>\n",
       "      <td>5009752</td>\n",
       "      <td>F</td>\n",
       "      <td>Y</td>\n",
       "      <td>N</td>\n",
       "      <td>0</td>\n",
       "      <td>315000.0</td>\n",
       "      <td>Commercial associate</td>\n",
       "      <td>Higher education</td>\n",
       "      <td>Married</td>\n",
       "      <td>House / apartment</td>\n",
       "      <td>-13557.0</td>\n",
       "      <td>-586</td>\n",
       "      <td>Unknown</td>\n",
       "      <td>2</td>\n",
       "      <td>1</td>\n",
       "      <td>37.0</td>\n",
       "    </tr>\n",
       "  </tbody>\n",
       "</table>\n",
       "</div>"
      ],
      "text/plain": [
       "    Ind_ID GENDER Car_Owner Propert_Owner  CHILDREN  Annual_income  \\\n",
       "0  5008827      M         Y             Y         0       180000.0   \n",
       "1  5009744      F         Y             N         0       315000.0   \n",
       "2  5009746      F         Y             N         0       315000.0   \n",
       "3  5009749      F         Y             N         0       166500.0   \n",
       "4  5009752      F         Y             N         0       315000.0   \n",
       "\n",
       "            Type_Income         EDUCATION Marital_status       Housing_type  \\\n",
       "0             Pensioner  Higher education        Married  House / apartment   \n",
       "1  Commercial associate  Higher education        Married  House / apartment   \n",
       "2  Commercial associate  Higher education        Married  House / apartment   \n",
       "3  Commercial associate  Higher education        Married  House / apartment   \n",
       "4  Commercial associate  Higher education        Married  House / apartment   \n",
       "\n",
       "   Birthday_count  Employed_days Type_Occupation  Family_Members  label   Age  \n",
       "0        -18772.0         365243         Unknown               2      1  51.0  \n",
       "1        -13557.0           -586         Unknown               2      1  37.0  \n",
       "2        -15661.5           -586         Unknown               2      1  42.0  \n",
       "3        -13557.0           -586         Unknown               2      1  37.0  \n",
       "4        -13557.0           -586         Unknown               2      1  37.0  "
      ]
     },
     "execution_count": 7,
     "metadata": {},
     "output_type": "execute_result"
    }
   ],
   "source": [
    "d1 = df2['GENDER'].mode()\n",
    "# filling null value of gender by it's mode\n",
    "df2['GENDER'].fillna('F', inplace=True)\n",
    "df2['Annual_income'].fillna(df2['Annual_income'].median(),inplace=True)\n",
    "df2['Type_Occupation'].fillna('Unknown',inplace=True)\n",
    "df2['Birthday_count'].fillna(df2['Birthday_count'].median(),inplace=True)\n",
    "df2['Age'] = df2['Birthday_count']*(-1) // 365\n",
    "df2.head()\n",
    "\n"
   ]
  },
  {
   "cell_type": "code",
   "execution_count": 8,
   "id": "79372c4d",
   "metadata": {
    "ExecuteTime": {
     "end_time": "2024-01-26T08:51:32.310672Z",
     "start_time": "2024-01-26T08:51:32.297958Z"
    }
   },
   "outputs": [],
   "source": [
    "columns_to_drop = ['Birthday_count']\n",
    "df2 = df2.drop(columns=columns_to_drop, axis=1)\n"
   ]
  },
  {
   "cell_type": "code",
   "execution_count": 9,
   "id": "42b7c33e",
   "metadata": {
    "ExecuteTime": {
     "end_time": "2024-01-26T08:51:32.358262Z",
     "start_time": "2024-01-26T08:51:32.314188Z"
    }
   },
   "outputs": [
    {
     "data": {
      "text/html": [
       "<div>\n",
       "<style scoped>\n",
       "    .dataframe tbody tr th:only-of-type {\n",
       "        vertical-align: middle;\n",
       "    }\n",
       "\n",
       "    .dataframe tbody tr th {\n",
       "        vertical-align: top;\n",
       "    }\n",
       "\n",
       "    .dataframe thead th {\n",
       "        text-align: right;\n",
       "    }\n",
       "</style>\n",
       "<table border=\"1\" class=\"dataframe\">\n",
       "  <thead>\n",
       "    <tr style=\"text-align: right;\">\n",
       "      <th></th>\n",
       "      <th>Ind_ID</th>\n",
       "      <th>GENDER</th>\n",
       "      <th>Car_Owner</th>\n",
       "      <th>Propert_Owner</th>\n",
       "      <th>CHILDREN</th>\n",
       "      <th>Annual_income</th>\n",
       "      <th>Type_Income</th>\n",
       "      <th>EDUCATION</th>\n",
       "      <th>Marital_status</th>\n",
       "      <th>Housing_type</th>\n",
       "      <th>Employed_days</th>\n",
       "      <th>Type_Occupation</th>\n",
       "      <th>Family_Members</th>\n",
       "      <th>label</th>\n",
       "      <th>Age</th>\n",
       "    </tr>\n",
       "  </thead>\n",
       "  <tbody>\n",
       "    <tr>\n",
       "      <th>0</th>\n",
       "      <td>5008827</td>\n",
       "      <td>M</td>\n",
       "      <td>Y</td>\n",
       "      <td>Y</td>\n",
       "      <td>0</td>\n",
       "      <td>180000.0</td>\n",
       "      <td>Pensioner</td>\n",
       "      <td>Higher education</td>\n",
       "      <td>Married</td>\n",
       "      <td>House / apartment</td>\n",
       "      <td>365243</td>\n",
       "      <td>Unknown</td>\n",
       "      <td>2</td>\n",
       "      <td>1</td>\n",
       "      <td>51.0</td>\n",
       "    </tr>\n",
       "    <tr>\n",
       "      <th>1</th>\n",
       "      <td>5009744</td>\n",
       "      <td>F</td>\n",
       "      <td>Y</td>\n",
       "      <td>N</td>\n",
       "      <td>0</td>\n",
       "      <td>315000.0</td>\n",
       "      <td>Commercial associate</td>\n",
       "      <td>Higher education</td>\n",
       "      <td>Married</td>\n",
       "      <td>House / apartment</td>\n",
       "      <td>-586</td>\n",
       "      <td>Unknown</td>\n",
       "      <td>2</td>\n",
       "      <td>1</td>\n",
       "      <td>37.0</td>\n",
       "    </tr>\n",
       "    <tr>\n",
       "      <th>2</th>\n",
       "      <td>5009746</td>\n",
       "      <td>F</td>\n",
       "      <td>Y</td>\n",
       "      <td>N</td>\n",
       "      <td>0</td>\n",
       "      <td>315000.0</td>\n",
       "      <td>Commercial associate</td>\n",
       "      <td>Higher education</td>\n",
       "      <td>Married</td>\n",
       "      <td>House / apartment</td>\n",
       "      <td>-586</td>\n",
       "      <td>Unknown</td>\n",
       "      <td>2</td>\n",
       "      <td>1</td>\n",
       "      <td>42.0</td>\n",
       "    </tr>\n",
       "    <tr>\n",
       "      <th>3</th>\n",
       "      <td>5009749</td>\n",
       "      <td>F</td>\n",
       "      <td>Y</td>\n",
       "      <td>N</td>\n",
       "      <td>0</td>\n",
       "      <td>166500.0</td>\n",
       "      <td>Commercial associate</td>\n",
       "      <td>Higher education</td>\n",
       "      <td>Married</td>\n",
       "      <td>House / apartment</td>\n",
       "      <td>-586</td>\n",
       "      <td>Unknown</td>\n",
       "      <td>2</td>\n",
       "      <td>1</td>\n",
       "      <td>37.0</td>\n",
       "    </tr>\n",
       "    <tr>\n",
       "      <th>4</th>\n",
       "      <td>5009752</td>\n",
       "      <td>F</td>\n",
       "      <td>Y</td>\n",
       "      <td>N</td>\n",
       "      <td>0</td>\n",
       "      <td>315000.0</td>\n",
       "      <td>Commercial associate</td>\n",
       "      <td>Higher education</td>\n",
       "      <td>Married</td>\n",
       "      <td>House / apartment</td>\n",
       "      <td>-586</td>\n",
       "      <td>Unknown</td>\n",
       "      <td>2</td>\n",
       "      <td>1</td>\n",
       "      <td>37.0</td>\n",
       "    </tr>\n",
       "  </tbody>\n",
       "</table>\n",
       "</div>"
      ],
      "text/plain": [
       "    Ind_ID GENDER Car_Owner Propert_Owner  CHILDREN  Annual_income  \\\n",
       "0  5008827      M         Y             Y         0       180000.0   \n",
       "1  5009744      F         Y             N         0       315000.0   \n",
       "2  5009746      F         Y             N         0       315000.0   \n",
       "3  5009749      F         Y             N         0       166500.0   \n",
       "4  5009752      F         Y             N         0       315000.0   \n",
       "\n",
       "            Type_Income         EDUCATION Marital_status       Housing_type  \\\n",
       "0             Pensioner  Higher education        Married  House / apartment   \n",
       "1  Commercial associate  Higher education        Married  House / apartment   \n",
       "2  Commercial associate  Higher education        Married  House / apartment   \n",
       "3  Commercial associate  Higher education        Married  House / apartment   \n",
       "4  Commercial associate  Higher education        Married  House / apartment   \n",
       "\n",
       "   Employed_days Type_Occupation  Family_Members  label   Age  \n",
       "0         365243         Unknown               2      1  51.0  \n",
       "1           -586         Unknown               2      1  37.0  \n",
       "2           -586         Unknown               2      1  42.0  \n",
       "3           -586         Unknown               2      1  37.0  \n",
       "4           -586         Unknown               2      1  37.0  "
      ]
     },
     "execution_count": 9,
     "metadata": {},
     "output_type": "execute_result"
    }
   ],
   "source": [
    "df2.head()"
   ]
  },
  {
   "cell_type": "code",
   "execution_count": 10,
   "id": "3b782efc",
   "metadata": {
    "ExecuteTime": {
     "end_time": "2024-01-26T08:51:32.388987Z",
     "start_time": "2024-01-26T08:51:32.358262Z"
    }
   },
   "outputs": [
    {
     "name": "stdout",
     "output_type": "stream",
     "text": [
      "<class 'pandas.core.frame.DataFrame'>\n",
      "RangeIndex: 1548 entries, 0 to 1547\n",
      "Data columns (total 15 columns):\n",
      " #   Column           Non-Null Count  Dtype  \n",
      "---  ------           --------------  -----  \n",
      " 0   Ind_ID           1548 non-null   int64  \n",
      " 1   GENDER           1548 non-null   object \n",
      " 2   Car_Owner        1548 non-null   object \n",
      " 3   Propert_Owner    1548 non-null   object \n",
      " 4   CHILDREN         1548 non-null   int64  \n",
      " 5   Annual_income    1548 non-null   float64\n",
      " 6   Type_Income      1548 non-null   object \n",
      " 7   EDUCATION        1548 non-null   object \n",
      " 8   Marital_status   1548 non-null   object \n",
      " 9   Housing_type     1548 non-null   object \n",
      " 10  Employed_days    1548 non-null   int64  \n",
      " 11  Type_Occupation  1548 non-null   object \n",
      " 12  Family_Members   1548 non-null   int64  \n",
      " 13  label            1548 non-null   int64  \n",
      " 14  Age              1548 non-null   float64\n",
      "dtypes: float64(2), int64(5), object(8)\n",
      "memory usage: 181.5+ KB\n"
     ]
    }
   ],
   "source": [
    "df2.info()"
   ]
  },
  {
   "cell_type": "code",
   "execution_count": 11,
   "id": "bf4ba08f",
   "metadata": {
    "ExecuteTime": {
     "end_time": "2024-01-26T08:51:32.414588Z",
     "start_time": "2024-01-26T08:51:32.391841Z"
    }
   },
   "outputs": [],
   "source": [
    "\n",
    "\n",
    "# Assuming your DataFrame is named df\n",
    "# Create a new column 'Employed_years' by dividing 'Employed days' by 365 (assuming each year has 365 days)\n",
    "df2['Employed_years'] = df2['Employed_days'] / 365\n",
    "\n",
    "# Replace the original column with a numerical version\n",
    "df2['Employed_days'] = df2['Employed_years']\n",
    "\n",
    "# Replace negative values with 0\n",
    "df2['Employed_days'] = df2['Employed_days'].apply(lambda x: x if x <= 0 else 0 )\n",
    "df2['Employed_days']= df2['Employed_days'] / 10\n",
    "\n",
    "\n",
    "\n",
    "\n",
    "\n"
   ]
  },
  {
   "cell_type": "code",
   "execution_count": 12,
   "id": "51ea69dd",
   "metadata": {
    "ExecuteTime": {
     "end_time": "2024-01-26T08:51:32.446935Z",
     "start_time": "2024-01-26T08:51:32.421748Z"
    }
   },
   "outputs": [
    {
     "name": "stdout",
     "output_type": "stream",
     "text": [
      "    Ind_ID GENDER Car_Owner Propert_Owner  CHILDREN  Annual_income  \\\n",
      "0  5008827      M         Y             Y         0       180000.0   \n",
      "1  5009744      F         Y             N         0       315000.0   \n",
      "2  5009746      F         Y             N         0       315000.0   \n",
      "3  5009749      F         Y             N         0       166500.0   \n",
      "4  5009752      F         Y             N         0       315000.0   \n",
      "\n",
      "            Type_Income         EDUCATION Marital_status       Housing_type  \\\n",
      "0             Pensioner  Higher education        Married  House / apartment   \n",
      "1  Commercial associate  Higher education        Married  House / apartment   \n",
      "2  Commercial associate  Higher education        Married  House / apartment   \n",
      "3  Commercial associate  Higher education        Married  House / apartment   \n",
      "4  Commercial associate  Higher education        Married  House / apartment   \n",
      "\n",
      "   Employed_days Type_Occupation  Family_Members  label   Age  \n",
      "0       0.000000         Unknown               2      1  51.0  \n",
      "1      -0.160548         Unknown               2      1  37.0  \n",
      "2      -0.160548         Unknown               2      1  42.0  \n",
      "3      -0.160548         Unknown               2      1  37.0  \n",
      "4      -0.160548         Unknown               2      1  37.0  \n"
     ]
    }
   ],
   "source": [
    "# Drop the intermediate 'Employed_years' column if you don't need it\n",
    "df2 = df2.drop('Employed_years', axis=1)\n",
    "\n",
    "# Display the DataFrame\n",
    "print(df2.head())\n"
   ]
  },
  {
   "cell_type": "code",
   "execution_count": 13,
   "id": "3e830d3b",
   "metadata": {
    "ExecuteTime": {
     "end_time": "2024-01-26T08:51:32.580800Z",
     "start_time": "2024-01-26T08:51:32.526276Z"
    }
   },
   "outputs": [],
   "source": [
    "# saving the dataframe\n",
    "d1 = df2.to_csv('file1.csv')\n",
    "d1"
   ]
  },
  {
   "cell_type": "code",
   "execution_count": 14,
   "id": "e00c58c5",
   "metadata": {
    "ExecuteTime": {
     "end_time": "2024-01-26T08:51:34.099661Z",
     "start_time": "2024-01-26T08:51:34.081971Z"
    }
   },
   "outputs": [],
   "source": [
    "df2 = df2.drop('Ind_ID',axis=1)"
   ]
  },
  {
   "cell_type": "code",
   "execution_count": 15,
   "id": "e9236dde",
   "metadata": {
    "ExecuteTime": {
     "end_time": "2024-01-26T08:51:35.330667Z",
     "start_time": "2024-01-26T08:51:35.296430Z"
    }
   },
   "outputs": [
    {
     "name": "stdout",
     "output_type": "stream",
     "text": [
      "<class 'pandas.core.frame.DataFrame'>\n",
      "RangeIndex: 1548 entries, 0 to 1547\n",
      "Data columns (total 14 columns):\n",
      " #   Column           Non-Null Count  Dtype  \n",
      "---  ------           --------------  -----  \n",
      " 0   GENDER           1548 non-null   object \n",
      " 1   Car_Owner        1548 non-null   object \n",
      " 2   Propert_Owner    1548 non-null   object \n",
      " 3   CHILDREN         1548 non-null   int64  \n",
      " 4   Annual_income    1548 non-null   float64\n",
      " 5   Type_Income      1548 non-null   object \n",
      " 6   EDUCATION        1548 non-null   object \n",
      " 7   Marital_status   1548 non-null   object \n",
      " 8   Housing_type     1548 non-null   object \n",
      " 9   Employed_days    1548 non-null   float64\n",
      " 10  Type_Occupation  1548 non-null   object \n",
      " 11  Family_Members   1548 non-null   int64  \n",
      " 12  label            1548 non-null   int64  \n",
      " 13  Age              1548 non-null   float64\n",
      "dtypes: float64(3), int64(3), object(8)\n",
      "memory usage: 169.4+ KB\n"
     ]
    },
    {
     "data": {
      "text/plain": [
       "array(['Unknown', 'Core staff', 'Cooking staff', 'Laborers',\n",
       "       'Sales staff', 'Accountants', 'High skill tech staff', 'Managers',\n",
       "       'Cleaning staff', 'Drivers', 'Low-skill Laborers', 'IT staff',\n",
       "       'Waiters/barmen staff', 'Security staff', 'Medicine staff',\n",
       "       'Private service staff', 'HR staff', 'Secretaries',\n",
       "       'Realty agents'], dtype=object)"
      ]
     },
     "execution_count": 15,
     "metadata": {},
     "output_type": "execute_result"
    }
   ],
   "source": [
    "df2.info()\n",
    "df2['Type_Occupation'].unique()"
   ]
  },
  {
   "cell_type": "code",
   "execution_count": 16,
   "id": "4a4d2a35",
   "metadata": {
    "ExecuteTime": {
     "end_time": "2024-01-26T08:51:36.425588Z",
     "start_time": "2024-01-26T08:51:36.401374Z"
    }
   },
   "outputs": [
    {
     "name": "stdout",
     "output_type": "stream",
     "text": [
      "     GENDER Car_Owner Propert_Owner  CHILDREN  Annual_income  \\\n",
      "0         M         Y             Y         0       180000.0   \n",
      "1         F         Y             N         0       315000.0   \n",
      "2         F         Y             N         0       315000.0   \n",
      "3         F         Y             N         0       166500.0   \n",
      "4         F         Y             N         0       315000.0   \n",
      "...     ...       ...           ...       ...            ...   \n",
      "1543      F         N             Y         0       166500.0   \n",
      "1544      F         N             N         0       225000.0   \n",
      "1545      M         Y             Y         2       180000.0   \n",
      "1546      M         Y             N         0       270000.0   \n",
      "1547      F         Y             Y         0       225000.0   \n",
      "\n",
      "               Type_Income                      EDUCATION  \\\n",
      "0                Pensioner               Higher education   \n",
      "1     Commercial associate               Higher education   \n",
      "2     Commercial associate               Higher education   \n",
      "3     Commercial associate               Higher education   \n",
      "4     Commercial associate               Higher education   \n",
      "...                    ...                            ...   \n",
      "1543  Commercial associate               Higher education   \n",
      "1544  Commercial associate              Incomplete higher   \n",
      "1545               Working               Higher education   \n",
      "1546               Working  Secondary / secondary special   \n",
      "1547               Working               Higher education   \n",
      "\n",
      "            Marital_status       Housing_type  Employed_days Type_Occupation  \\\n",
      "0                  Married  House / apartment       0.000000         Unknown   \n",
      "1                  Married  House / apartment      -0.160548         Unknown   \n",
      "2                  Married  House / apartment      -0.160548         Unknown   \n",
      "3                  Married  House / apartment      -0.160548         Unknown   \n",
      "4                  Married  House / apartment      -0.160548         Unknown   \n",
      "...                    ...                ...            ...             ...   \n",
      "1543               Married  House / apartment      -0.597808        Managers   \n",
      "1544  Single / not married  House / apartment      -0.331233     Accountants   \n",
      "1545               Married  House / apartment      -0.678630        Managers   \n",
      "1546        Civil marriage  House / apartment      -0.176712         Drivers   \n",
      "1547               Married  House / apartment      -0.783288         Unknown   \n",
      "\n",
      "      Family_Members   Age  label  \n",
      "0                  2  51.0      1  \n",
      "1                  2  37.0      1  \n",
      "2                  2  42.0      1  \n",
      "3                  2  37.0      1  \n",
      "4                  2  37.0      1  \n",
      "...              ...   ...    ...  \n",
      "1543               2  32.0      0  \n",
      "1544               1  28.0      0  \n",
      "1545               4  36.0      0  \n",
      "1546               2  41.0      0  \n",
      "1547               2  45.0      0  \n",
      "\n",
      "[1548 rows x 14 columns]\n"
     ]
    }
   ],
   "source": [
    "#Create a list of column names with 'label' at the end\n",
    "new_column_order = [col for col in df2.columns if col != 'label'] + ['label']\n",
    "\n",
    "# Reorder the columns in the DataFrame\n",
    "df2 = df2[new_column_order]\n",
    "\n",
    "# Display the DataFrame\n",
    "print(df2)"
   ]
  },
  {
   "cell_type": "code",
   "execution_count": 17,
   "id": "3f66064f",
   "metadata": {
    "ExecuteTime": {
     "end_time": "2024-01-26T08:51:37.381105Z",
     "start_time": "2024-01-26T08:51:37.354847Z"
    }
   },
   "outputs": [
    {
     "name": "stdout",
     "output_type": "stream",
     "text": [
      "<class 'pandas.core.frame.DataFrame'>\n",
      "RangeIndex: 1548 entries, 0 to 1547\n",
      "Data columns (total 14 columns):\n",
      " #   Column           Non-Null Count  Dtype  \n",
      "---  ------           --------------  -----  \n",
      " 0   GENDER           1548 non-null   object \n",
      " 1   Car_Owner        1548 non-null   object \n",
      " 2   Propert_Owner    1548 non-null   object \n",
      " 3   CHILDREN         1548 non-null   int64  \n",
      " 4   Annual_income    1548 non-null   float64\n",
      " 5   Type_Income      1548 non-null   object \n",
      " 6   EDUCATION        1548 non-null   object \n",
      " 7   Marital_status   1548 non-null   object \n",
      " 8   Housing_type     1548 non-null   object \n",
      " 9   Employed_days    1548 non-null   float64\n",
      " 10  Type_Occupation  1548 non-null   object \n",
      " 11  Family_Members   1548 non-null   int64  \n",
      " 12  Age              1548 non-null   float64\n",
      " 13  label            1548 non-null   int64  \n",
      "dtypes: float64(3), int64(3), object(8)\n",
      "memory usage: 169.4+ KB\n"
     ]
    }
   ],
   "source": [
    "df2.info()"
   ]
  },
  {
   "cell_type": "code",
   "execution_count": 18,
   "id": "4e44c40f",
   "metadata": {
    "ExecuteTime": {
     "end_time": "2024-01-26T08:51:38.196400Z",
     "start_time": "2024-01-26T08:51:38.185667Z"
    }
   },
   "outputs": [],
   "source": [
    "# split my dataset in dependent and independent feature \n",
    "X = df2.iloc[:,:-1]\n",
    "Y = df2.iloc[:,-1]\n"
   ]
  },
  {
   "cell_type": "code",
   "execution_count": 19,
   "id": "95cf0b31",
   "metadata": {
    "ExecuteTime": {
     "end_time": "2024-01-26T08:51:40.191668Z",
     "start_time": "2024-01-26T08:51:40.142467Z"
    }
   },
   "outputs": [
    {
     "data": {
      "text/html": [
       "<div>\n",
       "<style scoped>\n",
       "    .dataframe tbody tr th:only-of-type {\n",
       "        vertical-align: middle;\n",
       "    }\n",
       "\n",
       "    .dataframe tbody tr th {\n",
       "        vertical-align: top;\n",
       "    }\n",
       "\n",
       "    .dataframe thead th {\n",
       "        text-align: right;\n",
       "    }\n",
       "</style>\n",
       "<table border=\"1\" class=\"dataframe\">\n",
       "  <thead>\n",
       "    <tr style=\"text-align: right;\">\n",
       "      <th></th>\n",
       "      <th>GENDER</th>\n",
       "      <th>Car_Owner</th>\n",
       "      <th>Propert_Owner</th>\n",
       "      <th>CHILDREN</th>\n",
       "      <th>Annual_income</th>\n",
       "      <th>Type_Income</th>\n",
       "      <th>EDUCATION</th>\n",
       "      <th>Marital_status</th>\n",
       "      <th>Housing_type</th>\n",
       "      <th>Employed_days</th>\n",
       "      <th>Type_Occupation</th>\n",
       "      <th>Family_Members</th>\n",
       "      <th>Age</th>\n",
       "    </tr>\n",
       "  </thead>\n",
       "  <tbody>\n",
       "    <tr>\n",
       "      <th>0</th>\n",
       "      <td>M</td>\n",
       "      <td>Y</td>\n",
       "      <td>Y</td>\n",
       "      <td>0</td>\n",
       "      <td>180000.0</td>\n",
       "      <td>Pensioner</td>\n",
       "      <td>Higher education</td>\n",
       "      <td>Married</td>\n",
       "      <td>House / apartment</td>\n",
       "      <td>0.000000</td>\n",
       "      <td>Unknown</td>\n",
       "      <td>2</td>\n",
       "      <td>51.0</td>\n",
       "    </tr>\n",
       "    <tr>\n",
       "      <th>1</th>\n",
       "      <td>F</td>\n",
       "      <td>Y</td>\n",
       "      <td>N</td>\n",
       "      <td>0</td>\n",
       "      <td>315000.0</td>\n",
       "      <td>Commercial associate</td>\n",
       "      <td>Higher education</td>\n",
       "      <td>Married</td>\n",
       "      <td>House / apartment</td>\n",
       "      <td>-0.160548</td>\n",
       "      <td>Unknown</td>\n",
       "      <td>2</td>\n",
       "      <td>37.0</td>\n",
       "    </tr>\n",
       "    <tr>\n",
       "      <th>2</th>\n",
       "      <td>F</td>\n",
       "      <td>Y</td>\n",
       "      <td>N</td>\n",
       "      <td>0</td>\n",
       "      <td>315000.0</td>\n",
       "      <td>Commercial associate</td>\n",
       "      <td>Higher education</td>\n",
       "      <td>Married</td>\n",
       "      <td>House / apartment</td>\n",
       "      <td>-0.160548</td>\n",
       "      <td>Unknown</td>\n",
       "      <td>2</td>\n",
       "      <td>42.0</td>\n",
       "    </tr>\n",
       "    <tr>\n",
       "      <th>3</th>\n",
       "      <td>F</td>\n",
       "      <td>Y</td>\n",
       "      <td>N</td>\n",
       "      <td>0</td>\n",
       "      <td>166500.0</td>\n",
       "      <td>Commercial associate</td>\n",
       "      <td>Higher education</td>\n",
       "      <td>Married</td>\n",
       "      <td>House / apartment</td>\n",
       "      <td>-0.160548</td>\n",
       "      <td>Unknown</td>\n",
       "      <td>2</td>\n",
       "      <td>37.0</td>\n",
       "    </tr>\n",
       "    <tr>\n",
       "      <th>4</th>\n",
       "      <td>F</td>\n",
       "      <td>Y</td>\n",
       "      <td>N</td>\n",
       "      <td>0</td>\n",
       "      <td>315000.0</td>\n",
       "      <td>Commercial associate</td>\n",
       "      <td>Higher education</td>\n",
       "      <td>Married</td>\n",
       "      <td>House / apartment</td>\n",
       "      <td>-0.160548</td>\n",
       "      <td>Unknown</td>\n",
       "      <td>2</td>\n",
       "      <td>37.0</td>\n",
       "    </tr>\n",
       "    <tr>\n",
       "      <th>...</th>\n",
       "      <td>...</td>\n",
       "      <td>...</td>\n",
       "      <td>...</td>\n",
       "      <td>...</td>\n",
       "      <td>...</td>\n",
       "      <td>...</td>\n",
       "      <td>...</td>\n",
       "      <td>...</td>\n",
       "      <td>...</td>\n",
       "      <td>...</td>\n",
       "      <td>...</td>\n",
       "      <td>...</td>\n",
       "      <td>...</td>\n",
       "    </tr>\n",
       "    <tr>\n",
       "      <th>1543</th>\n",
       "      <td>F</td>\n",
       "      <td>N</td>\n",
       "      <td>Y</td>\n",
       "      <td>0</td>\n",
       "      <td>166500.0</td>\n",
       "      <td>Commercial associate</td>\n",
       "      <td>Higher education</td>\n",
       "      <td>Married</td>\n",
       "      <td>House / apartment</td>\n",
       "      <td>-0.597808</td>\n",
       "      <td>Managers</td>\n",
       "      <td>2</td>\n",
       "      <td>32.0</td>\n",
       "    </tr>\n",
       "    <tr>\n",
       "      <th>1544</th>\n",
       "      <td>F</td>\n",
       "      <td>N</td>\n",
       "      <td>N</td>\n",
       "      <td>0</td>\n",
       "      <td>225000.0</td>\n",
       "      <td>Commercial associate</td>\n",
       "      <td>Incomplete higher</td>\n",
       "      <td>Single / not married</td>\n",
       "      <td>House / apartment</td>\n",
       "      <td>-0.331233</td>\n",
       "      <td>Accountants</td>\n",
       "      <td>1</td>\n",
       "      <td>28.0</td>\n",
       "    </tr>\n",
       "    <tr>\n",
       "      <th>1545</th>\n",
       "      <td>M</td>\n",
       "      <td>Y</td>\n",
       "      <td>Y</td>\n",
       "      <td>2</td>\n",
       "      <td>180000.0</td>\n",
       "      <td>Working</td>\n",
       "      <td>Higher education</td>\n",
       "      <td>Married</td>\n",
       "      <td>House / apartment</td>\n",
       "      <td>-0.678630</td>\n",
       "      <td>Managers</td>\n",
       "      <td>4</td>\n",
       "      <td>36.0</td>\n",
       "    </tr>\n",
       "    <tr>\n",
       "      <th>1546</th>\n",
       "      <td>M</td>\n",
       "      <td>Y</td>\n",
       "      <td>N</td>\n",
       "      <td>0</td>\n",
       "      <td>270000.0</td>\n",
       "      <td>Working</td>\n",
       "      <td>Secondary / secondary special</td>\n",
       "      <td>Civil marriage</td>\n",
       "      <td>House / apartment</td>\n",
       "      <td>-0.176712</td>\n",
       "      <td>Drivers</td>\n",
       "      <td>2</td>\n",
       "      <td>41.0</td>\n",
       "    </tr>\n",
       "    <tr>\n",
       "      <th>1547</th>\n",
       "      <td>F</td>\n",
       "      <td>Y</td>\n",
       "      <td>Y</td>\n",
       "      <td>0</td>\n",
       "      <td>225000.0</td>\n",
       "      <td>Working</td>\n",
       "      <td>Higher education</td>\n",
       "      <td>Married</td>\n",
       "      <td>House / apartment</td>\n",
       "      <td>-0.783288</td>\n",
       "      <td>Unknown</td>\n",
       "      <td>2</td>\n",
       "      <td>45.0</td>\n",
       "    </tr>\n",
       "  </tbody>\n",
       "</table>\n",
       "<p>1548 rows × 13 columns</p>\n",
       "</div>"
      ],
      "text/plain": [
       "     GENDER Car_Owner Propert_Owner  CHILDREN  Annual_income  \\\n",
       "0         M         Y             Y         0       180000.0   \n",
       "1         F         Y             N         0       315000.0   \n",
       "2         F         Y             N         0       315000.0   \n",
       "3         F         Y             N         0       166500.0   \n",
       "4         F         Y             N         0       315000.0   \n",
       "...     ...       ...           ...       ...            ...   \n",
       "1543      F         N             Y         0       166500.0   \n",
       "1544      F         N             N         0       225000.0   \n",
       "1545      M         Y             Y         2       180000.0   \n",
       "1546      M         Y             N         0       270000.0   \n",
       "1547      F         Y             Y         0       225000.0   \n",
       "\n",
       "               Type_Income                      EDUCATION  \\\n",
       "0                Pensioner               Higher education   \n",
       "1     Commercial associate               Higher education   \n",
       "2     Commercial associate               Higher education   \n",
       "3     Commercial associate               Higher education   \n",
       "4     Commercial associate               Higher education   \n",
       "...                    ...                            ...   \n",
       "1543  Commercial associate               Higher education   \n",
       "1544  Commercial associate              Incomplete higher   \n",
       "1545               Working               Higher education   \n",
       "1546               Working  Secondary / secondary special   \n",
       "1547               Working               Higher education   \n",
       "\n",
       "            Marital_status       Housing_type  Employed_days Type_Occupation  \\\n",
       "0                  Married  House / apartment       0.000000         Unknown   \n",
       "1                  Married  House / apartment      -0.160548         Unknown   \n",
       "2                  Married  House / apartment      -0.160548         Unknown   \n",
       "3                  Married  House / apartment      -0.160548         Unknown   \n",
       "4                  Married  House / apartment      -0.160548         Unknown   \n",
       "...                    ...                ...            ...             ...   \n",
       "1543               Married  House / apartment      -0.597808        Managers   \n",
       "1544  Single / not married  House / apartment      -0.331233     Accountants   \n",
       "1545               Married  House / apartment      -0.678630        Managers   \n",
       "1546        Civil marriage  House / apartment      -0.176712         Drivers   \n",
       "1547               Married  House / apartment      -0.783288         Unknown   \n",
       "\n",
       "      Family_Members   Age  \n",
       "0                  2  51.0  \n",
       "1                  2  37.0  \n",
       "2                  2  42.0  \n",
       "3                  2  37.0  \n",
       "4                  2  37.0  \n",
       "...              ...   ...  \n",
       "1543               2  32.0  \n",
       "1544               1  28.0  \n",
       "1545               4  36.0  \n",
       "1546               2  41.0  \n",
       "1547               2  45.0  \n",
       "\n",
       "[1548 rows x 13 columns]"
      ]
     },
     "execution_count": 19,
     "metadata": {},
     "output_type": "execute_result"
    }
   ],
   "source": [
    "X"
   ]
  },
  {
   "cell_type": "code",
   "execution_count": 20,
   "id": "2f8f364a",
   "metadata": {
    "ExecuteTime": {
     "end_time": "2024-01-26T08:51:40.958070Z",
     "start_time": "2024-01-26T08:51:40.940184Z"
    }
   },
   "outputs": [
    {
     "data": {
      "text/plain": [
       "0       1\n",
       "1       1\n",
       "2       1\n",
       "3       1\n",
       "4       1\n",
       "       ..\n",
       "1543    0\n",
       "1544    0\n",
       "1545    0\n",
       "1546    0\n",
       "1547    0\n",
       "Name: label, Length: 1548, dtype: int64"
      ]
     },
     "execution_count": 20,
     "metadata": {},
     "output_type": "execute_result"
    }
   ],
   "source": [
    "Y"
   ]
  },
  {
   "cell_type": "code",
   "execution_count": 21,
   "id": "a2c61556",
   "metadata": {
    "ExecuteTime": {
     "end_time": "2024-01-26T08:51:41.989945Z",
     "start_time": "2024-01-26T08:51:41.933879Z"
    }
   },
   "outputs": [
    {
     "name": "stdout",
     "output_type": "stream",
     "text": [
      "   GENDER  Car_Owner  Propert_Owner  CHILDREN  Annual_income  EDUCATION  \\\n",
      "0       1          1              1         0       180000.0          4   \n",
      "1       0          1              0         0       315000.0          4   \n",
      "2       0          1              0         0       315000.0          4   \n",
      "3       0          1              0         0       166500.0          4   \n",
      "4       0          1              0         0       315000.0          4   \n",
      "\n",
      "   Employed_days  Family_Members   Age  Type_Occupation_Accountants  ...  \\\n",
      "0       0.000000               2  51.0                        False  ...   \n",
      "1      -0.160548               2  37.0                        False  ...   \n",
      "2      -0.160548               2  42.0                        False  ...   \n",
      "3      -0.160548               2  37.0                        False  ...   \n",
      "4      -0.160548               2  37.0                        False  ...   \n",
      "\n",
      "   Housing_type_Co-op apartment  Housing_type_House / apartment  \\\n",
      "0                         False                            True   \n",
      "1                         False                            True   \n",
      "2                         False                            True   \n",
      "3                         False                            True   \n",
      "4                         False                            True   \n",
      "\n",
      "   Housing_type_Municipal apartment  Housing_type_Office apartment  \\\n",
      "0                             False                          False   \n",
      "1                             False                          False   \n",
      "2                             False                          False   \n",
      "3                             False                          False   \n",
      "4                             False                          False   \n",
      "\n",
      "   Housing_type_Rented apartment  Housing_type_With parents  \\\n",
      "0                          False                      False   \n",
      "1                          False                      False   \n",
      "2                          False                      False   \n",
      "3                          False                      False   \n",
      "4                          False                      False   \n",
      "\n",
      "   Type_Income_Commercial associate  Type_Income_Pensioner  \\\n",
      "0                             False                   True   \n",
      "1                              True                  False   \n",
      "2                              True                  False   \n",
      "3                              True                  False   \n",
      "4                              True                  False   \n",
      "\n",
      "   Type_Income_State servant  Type_Income_Working  \n",
      "0                      False                False  \n",
      "1                      False                False  \n",
      "2                      False                False  \n",
      "3                      False                False  \n",
      "4                      False                False  \n",
      "\n",
      "[5 rows x 43 columns]\n"
     ]
    }
   ],
   "source": [
    "X_encoded = pd.get_dummies(X, columns=['Type_Occupation',  'Marital_status', 'Housing_type','Type_Income'])\n",
    "\n",
    "# Mapping binary variables\n",
    "X_encoded['GENDER'] = X_encoded['GENDER'].map({'M': 1, 'F': 0})\n",
    "X_encoded['Car_Owner'] = X_encoded['Car_Owner'].map({'Y': 1, 'N': 0})\n",
    "X_encoded['Propert_Owner'] = X_encoded['Propert_Owner'].map({'Y': 1, 'N': 0})\n",
    "X_encoded['EDUCATION'] = X_encoded['EDUCATION'].map({'Higher education':4, 'Secondary / secondary special':2,\n",
    "       'Lower secondary':1, 'Incomplete higher':3, 'Academic degree':5})\n",
    "\n",
    "                                   \n",
    "\n",
    "# Display the resulting DataFrame\n",
    "print(X_encoded.head())"
   ]
  },
  {
   "cell_type": "code",
   "execution_count": 22,
   "id": "81915648",
   "metadata": {
    "ExecuteTime": {
     "end_time": "2024-01-26T08:51:43.124947Z",
     "start_time": "2024-01-26T08:51:43.106293Z"
    }
   },
   "outputs": [],
   "source": [
    "from sklearn.model_selection import train_test_split\n",
    "X_train, X_test, y_train, y_test = train_test_split(X_encoded,Y , \n",
    "                                   random_state=0,  \n",
    "                                   test_size=0.25,  \n",
    "                                   shuffle=True)\n"
   ]
  },
  {
   "cell_type": "code",
   "execution_count": 23,
   "id": "99f33d72",
   "metadata": {
    "ExecuteTime": {
     "end_time": "2024-01-26T08:51:44.580297Z",
     "start_time": "2024-01-26T08:51:44.539347Z"
    }
   },
   "outputs": [],
   "source": [
    "# scaling the data \n",
    "from sklearn.preprocessing import StandardScaler\n",
    "\n",
    "scaler = StandardScaler()\n",
    "X_train_scaled = scaler.fit_transform(X_train)\n",
    "X_test_scaled = scaler.transform(X_test)\n",
    "\n",
    "\n",
    "  "
   ]
  },
  {
   "cell_type": "code",
   "execution_count": 24,
   "id": "1c57867b",
   "metadata": {
    "ExecuteTime": {
     "end_time": "2024-01-26T08:51:45.481762Z",
     "start_time": "2024-01-26T08:51:45.469602Z"
    }
   },
   "outputs": [],
   "source": [
    "# Applying logistic regression model\n",
    "classifier = LogisticRegression()"
   ]
  },
  {
   "cell_type": "code",
   "execution_count": 25,
   "id": "94dab079",
   "metadata": {
    "ExecuteTime": {
     "end_time": "2024-01-26T08:51:46.341775Z",
     "start_time": "2024-01-26T08:51:46.331019Z"
    }
   },
   "outputs": [],
   "source": [
    "from sklearn.model_selection import GridSearchCV\n",
    "parameters = {'penalty':['l2'],'C':[1,2,3,4,5,6,10,20,30,40,50],'max_iter':[100,200,300]\n",
    "             }\n"
   ]
  },
  {
   "cell_type": "code",
   "execution_count": 26,
   "id": "4321d760",
   "metadata": {
    "ExecuteTime": {
     "end_time": "2024-01-26T08:51:47.205069Z",
     "start_time": "2024-01-26T08:51:47.197267Z"
    }
   },
   "outputs": [],
   "source": [
    "classifier_regressor = GridSearchCV(classifier,param_grid=parameters,scoring='accuracy',cv=5)"
   ]
  },
  {
   "cell_type": "code",
   "execution_count": 27,
   "id": "aaa571e5",
   "metadata": {
    "ExecuteTime": {
     "end_time": "2024-01-26T08:51:58.528295Z",
     "start_time": "2024-01-26T08:51:48.139457Z"
    }
   },
   "outputs": [
    {
     "data": {
      "text/html": [
       "<style>#sk-container-id-1 {color: black;}#sk-container-id-1 pre{padding: 0;}#sk-container-id-1 div.sk-toggleable {background-color: white;}#sk-container-id-1 label.sk-toggleable__label {cursor: pointer;display: block;width: 100%;margin-bottom: 0;padding: 0.3em;box-sizing: border-box;text-align: center;}#sk-container-id-1 label.sk-toggleable__label-arrow:before {content: \"▸\";float: left;margin-right: 0.25em;color: #696969;}#sk-container-id-1 label.sk-toggleable__label-arrow:hover:before {color: black;}#sk-container-id-1 div.sk-estimator:hover label.sk-toggleable__label-arrow:before {color: black;}#sk-container-id-1 div.sk-toggleable__content {max-height: 0;max-width: 0;overflow: hidden;text-align: left;background-color: #f0f8ff;}#sk-container-id-1 div.sk-toggleable__content pre {margin: 0.2em;color: black;border-radius: 0.25em;background-color: #f0f8ff;}#sk-container-id-1 input.sk-toggleable__control:checked~div.sk-toggleable__content {max-height: 200px;max-width: 100%;overflow: auto;}#sk-container-id-1 input.sk-toggleable__control:checked~label.sk-toggleable__label-arrow:before {content: \"▾\";}#sk-container-id-1 div.sk-estimator input.sk-toggleable__control:checked~label.sk-toggleable__label {background-color: #d4ebff;}#sk-container-id-1 div.sk-label input.sk-toggleable__control:checked~label.sk-toggleable__label {background-color: #d4ebff;}#sk-container-id-1 input.sk-hidden--visually {border: 0;clip: rect(1px 1px 1px 1px);clip: rect(1px, 1px, 1px, 1px);height: 1px;margin: -1px;overflow: hidden;padding: 0;position: absolute;width: 1px;}#sk-container-id-1 div.sk-estimator {font-family: monospace;background-color: #f0f8ff;border: 1px dotted black;border-radius: 0.25em;box-sizing: border-box;margin-bottom: 0.5em;}#sk-container-id-1 div.sk-estimator:hover {background-color: #d4ebff;}#sk-container-id-1 div.sk-parallel-item::after {content: \"\";width: 100%;border-bottom: 1px solid gray;flex-grow: 1;}#sk-container-id-1 div.sk-label:hover label.sk-toggleable__label {background-color: #d4ebff;}#sk-container-id-1 div.sk-serial::before {content: \"\";position: absolute;border-left: 1px solid gray;box-sizing: border-box;top: 0;bottom: 0;left: 50%;z-index: 0;}#sk-container-id-1 div.sk-serial {display: flex;flex-direction: column;align-items: center;background-color: white;padding-right: 0.2em;padding-left: 0.2em;position: relative;}#sk-container-id-1 div.sk-item {position: relative;z-index: 1;}#sk-container-id-1 div.sk-parallel {display: flex;align-items: stretch;justify-content: center;background-color: white;position: relative;}#sk-container-id-1 div.sk-item::before, #sk-container-id-1 div.sk-parallel-item::before {content: \"\";position: absolute;border-left: 1px solid gray;box-sizing: border-box;top: 0;bottom: 0;left: 50%;z-index: -1;}#sk-container-id-1 div.sk-parallel-item {display: flex;flex-direction: column;z-index: 1;position: relative;background-color: white;}#sk-container-id-1 div.sk-parallel-item:first-child::after {align-self: flex-end;width: 50%;}#sk-container-id-1 div.sk-parallel-item:last-child::after {align-self: flex-start;width: 50%;}#sk-container-id-1 div.sk-parallel-item:only-child::after {width: 0;}#sk-container-id-1 div.sk-dashed-wrapped {border: 1px dashed gray;margin: 0 0.4em 0.5em 0.4em;box-sizing: border-box;padding-bottom: 0.4em;background-color: white;}#sk-container-id-1 div.sk-label label {font-family: monospace;font-weight: bold;display: inline-block;line-height: 1.2em;}#sk-container-id-1 div.sk-label-container {text-align: center;}#sk-container-id-1 div.sk-container {/* jupyter's `normalize.less` sets `[hidden] { display: none; }` but bootstrap.min.css set `[hidden] { display: none !important; }` so we also need the `!important` here to be able to override the default hidden behavior on the sphinx rendered scikit-learn.org. See: https://github.com/scikit-learn/scikit-learn/issues/21755 */display: inline-block !important;position: relative;}#sk-container-id-1 div.sk-text-repr-fallback {display: none;}</style><div id=\"sk-container-id-1\" class=\"sk-top-container\"><div class=\"sk-text-repr-fallback\"><pre>GridSearchCV(cv=5, estimator=LogisticRegression(),\n",
       "             param_grid={&#x27;C&#x27;: [1, 2, 3, 4, 5, 6, 10, 20, 30, 40, 50],\n",
       "                         &#x27;max_iter&#x27;: [100, 200, 300], &#x27;penalty&#x27;: [&#x27;l2&#x27;]},\n",
       "             scoring=&#x27;accuracy&#x27;)</pre><b>In a Jupyter environment, please rerun this cell to show the HTML representation or trust the notebook. <br />On GitHub, the HTML representation is unable to render, please try loading this page with nbviewer.org.</b></div><div class=\"sk-container\" hidden><div class=\"sk-item sk-dashed-wrapped\"><div class=\"sk-label-container\"><div class=\"sk-label sk-toggleable\"><input class=\"sk-toggleable__control sk-hidden--visually\" id=\"sk-estimator-id-1\" type=\"checkbox\" ><label for=\"sk-estimator-id-1\" class=\"sk-toggleable__label sk-toggleable__label-arrow\">GridSearchCV</label><div class=\"sk-toggleable__content\"><pre>GridSearchCV(cv=5, estimator=LogisticRegression(),\n",
       "             param_grid={&#x27;C&#x27;: [1, 2, 3, 4, 5, 6, 10, 20, 30, 40, 50],\n",
       "                         &#x27;max_iter&#x27;: [100, 200, 300], &#x27;penalty&#x27;: [&#x27;l2&#x27;]},\n",
       "             scoring=&#x27;accuracy&#x27;)</pre></div></div></div><div class=\"sk-parallel\"><div class=\"sk-parallel-item\"><div class=\"sk-item\"><div class=\"sk-label-container\"><div class=\"sk-label sk-toggleable\"><input class=\"sk-toggleable__control sk-hidden--visually\" id=\"sk-estimator-id-2\" type=\"checkbox\" ><label for=\"sk-estimator-id-2\" class=\"sk-toggleable__label sk-toggleable__label-arrow\">estimator: LogisticRegression</label><div class=\"sk-toggleable__content\"><pre>LogisticRegression()</pre></div></div></div><div class=\"sk-serial\"><div class=\"sk-item\"><div class=\"sk-estimator sk-toggleable\"><input class=\"sk-toggleable__control sk-hidden--visually\" id=\"sk-estimator-id-3\" type=\"checkbox\" ><label for=\"sk-estimator-id-3\" class=\"sk-toggleable__label sk-toggleable__label-arrow\">LogisticRegression</label><div class=\"sk-toggleable__content\"><pre>LogisticRegression()</pre></div></div></div></div></div></div></div></div></div></div>"
      ],
      "text/plain": [
       "GridSearchCV(cv=5, estimator=LogisticRegression(),\n",
       "             param_grid={'C': [1, 2, 3, 4, 5, 6, 10, 20, 30, 40, 50],\n",
       "                         'max_iter': [100, 200, 300], 'penalty': ['l2']},\n",
       "             scoring='accuracy')"
      ]
     },
     "execution_count": 27,
     "metadata": {},
     "output_type": "execute_result"
    }
   ],
   "source": [
    "classifier_regressor.fit(X_train_scaled,y_train)"
   ]
  },
  {
   "cell_type": "code",
   "execution_count": 28,
   "id": "dc8a0781",
   "metadata": {
    "ExecuteTime": {
     "end_time": "2024-01-26T08:51:58.543203Z",
     "start_time": "2024-01-26T08:51:58.535488Z"
    }
   },
   "outputs": [
    {
     "name": "stdout",
     "output_type": "stream",
     "text": [
      "0.8785481722657984\n"
     ]
    }
   ],
   "source": [
    "print(classifier_regressor.best_score_)"
   ]
  },
  {
   "cell_type": "code",
   "execution_count": 29,
   "id": "4f1393fd",
   "metadata": {
    "ExecuteTime": {
     "end_time": "2024-01-26T08:51:58.556199Z",
     "start_time": "2024-01-26T08:51:58.543729Z"
    }
   },
   "outputs": [],
   "source": [
    "## predicition \n",
    "\n",
    "y_pred = classifier_regressor.predict(X_test_scaled) \n"
   ]
  },
  {
   "cell_type": "code",
   "execution_count": 30,
   "id": "e0158965",
   "metadata": {
    "ExecuteTime": {
     "end_time": "2024-01-26T08:51:58.575290Z",
     "start_time": "2024-01-26T08:51:58.563309Z"
    }
   },
   "outputs": [
    {
     "name": "stdout",
     "output_type": "stream",
     "text": [
      "89.92248062015504%\n"
     ]
    }
   ],
   "source": [
    "# accuracy score \n",
    "from sklearn.metrics import accuracy_score,classification_report \n",
    "score_logistic_model = accuracy_score(y_pred,y_test)\n",
    "score_logistic_model_percentage = score_logistic_model*100\n",
    "print(f\"{score_logistic_model_percentage}%\")"
   ]
  },
  {
   "cell_type": "code",
   "execution_count": 31,
   "id": "4a091dab",
   "metadata": {
    "ExecuteTime": {
     "end_time": "2024-01-26T08:51:58.598983Z",
     "start_time": "2024-01-26T08:51:58.583811Z"
    }
   },
   "outputs": [
    {
     "data": {
      "text/plain": [
       "array([[345,   1],\n",
       "       [ 38,   3]], dtype=int64)"
      ]
     },
     "execution_count": 31,
     "metadata": {},
     "output_type": "execute_result"
    }
   ],
   "source": [
    "# making confusion metrics \n",
    "from sklearn.metrics import confusion_matrix \n",
    "cm = confusion_matrix(y_test,y_pred)\n",
    "cm"
   ]
  },
  {
   "cell_type": "code",
   "execution_count": 32,
   "id": "6cc173cc",
   "metadata": {
    "ExecuteTime": {
     "end_time": "2024-01-26T08:51:59.214856Z",
     "start_time": "2024-01-26T08:51:58.603083Z"
    }
   },
   "outputs": [
    {
     "data": {
      "image/png": "[encoded data removed]",
      "text/plain": [
       "<Figure size 640x480 with 2 Axes>"
      ]
     },
     "metadata": {},
     "output_type": "display_data"
    }
   ],
   "source": [
    "sns.heatmap(cm, \n",
    "            annot=True,\n",
    "            fmt='g', \n",
    "            xticklabels=['approve', 'not approve'],\n",
    "            yticklabels=['approve', 'not approve'])  \n",
    "plt.ylabel('Prediction', fontsize=13)\n",
    "plt.xlabel('Actual', fontsize=13)\n",
    "plt.title('Confusion Matrix', fontsize=17)\n",
    "plt.show()"
   ]
  },
  {
   "cell_type": "markdown",
   "id": "80eadd23",
   "metadata": {},
   "source": [
    "\n",
    "\n",
    "# calculating percentage of the type two error\n",
    "Type 2 error is crucial in machine learning because it \n",
    "represents missed opportunities, can have serious consequences, impacts model sensitivity, involves a trade-off \n",
    "with Type 1 error, influences evaluation metrics, requires cost considerations, has context-specific significance, and necessitates continuous monitoring for improvement.\n",
    "\n",
    "\n",
    "\n",
    "\n",
    "\n"
   ]
  },
  {
   "cell_type": "code",
   "execution_count": 33,
   "id": "967ed7d7",
   "metadata": {
    "ExecuteTime": {
     "end_time": "2024-01-26T08:51:59.229798Z",
     "start_time": "2024-01-26T08:51:59.217851Z"
    }
   },
   "outputs": [
    {
     "name": "stdout",
     "output_type": "stream",
     "text": [
      "Type 2 error: 9.921671018276761 %\n"
     ]
    }
   ],
   "source": [
    "# values of falsenegitive and true positive according to classification model \n",
    "fn = 38 \n",
    "tp = 345 \n",
    "\n",
    "\n",
    "\n",
    "type_2_error =  fn / (fn + tp) if (fn + tp) != 0 else 0\n",
    "\n",
    "type_2_error_percentage = type_2_error * 100\n",
    "\n",
    "print(\"Type 2 error:\", type_2_error_percentage, \"%\")\n",
    "\n",
    "\n"
   ]
  },
  {
   "cell_type": "markdown",
   "id": "a97fbcda",
   "metadata": {
    "ExecuteTime": {
     "end_time": "2024-01-23T15:40:18.008601Z",
     "start_time": "2024-01-23T15:40:18.000129Z"
    }
   },
   "source": [
    "Type 2 error in logistic regression model is 8.73%"
   ]
  },
  {
   "cell_type": "code",
   "execution_count": 34,
   "id": "5fcaf3a8",
   "metadata": {
    "ExecuteTime": {
     "end_time": "2024-01-26T08:52:00.881305Z",
     "start_time": "2024-01-26T08:52:00.835527Z"
    }
   },
   "outputs": [
    {
     "data": {
      "text/plain": [
       "Housing_type_House / apartment          -0.065639\n",
       "Marital_status_Civil marriage           -0.061278\n",
       "Type_Income_State servant               -0.055120\n",
       "Type_Income_Working                     -0.053938\n",
       "Type_Occupation_Private service staff   -0.037620\n",
       "Housing_type_With parents               -0.037266\n",
       "Family_Members                          -0.030709\n",
       "Type_Occupation_Medicine staff          -0.030607\n",
       "Type_Occupation_Sales staff             -0.028711\n",
       "Type_Occupation_Secretaries             -0.027301\n",
       "CHILDREN                                -0.021646\n",
       "Marital_status_Married                  -0.020029\n",
       "Propert_Owner                           -0.017906\n",
       "Type_Occupation_HR staff                -0.015732\n",
       "Car_Owner                               -0.014734\n",
       "Type_Occupation_Realty agents           -0.012841\n",
       "Type_Occupation_Laborers                -0.012386\n",
       "Type_Occupation_Managers                -0.009907\n",
       "Type_Occupation_Cleaning staff          -0.008395\n",
       "Type_Occupation_Drivers                 -0.006432\n",
       "Marital_status_Widow                    -0.004548\n",
       "Type_Occupation_High skill tech staff   -0.003542\n",
       "Type_Occupation_Accountants              0.000317\n",
       "Type_Occupation_Unknown                  0.008044\n",
       "EDUCATION                                0.014999\n",
       "Type_Occupation_Waiters/barmen staff     0.015631\n",
       "Type_Occupation_Core staff               0.021504\n",
       "Annual_income                            0.024425\n",
       "Housing_type_Office apartment            0.026365\n",
       "Type_Occupation_Low-skill Laborers       0.026365\n",
       "Marital_status_Separated                 0.026622\n",
       "Housing_type_Rented apartment            0.028675\n",
       "Type_Occupation_Cooking staff            0.028675\n",
       "Type_Income_Commercial associate         0.041990\n",
       "Age                                      0.044451\n",
       "GENDER                                   0.045664\n",
       "Housing_type_Co-op apartment             0.051585\n",
       "Marital_status_Single / not married      0.053852\n",
       "Type_Income_Pensioner                    0.062399\n",
       "Type_Occupation_Security staff           0.083734\n",
       "Employed_days                            0.097014\n",
       "Type_Occupation_IT staff                 0.100746\n",
       "Housing_type_Municipal apartment         0.112285\n",
       "dtype: float64"
      ]
     },
     "execution_count": 34,
     "metadata": {},
     "output_type": "execute_result"
    }
   ],
   "source": [
    "X_encoded.corrwith(Y).sort_values()"
   ]
  },
  {
   "cell_type": "markdown",
   "id": "deddbfd7",
   "metadata": {},
   "source": [
    "# prediction  using decision tree"
   ]
  },
  {
   "cell_type": "code",
   "execution_count": null,
   "id": "7ce4ece6",
   "metadata": {
    "ExecuteTime": {
     "end_time": "2024-01-25T06:58:32.842674Z",
     "start_time": "2024-01-25T06:58:32.842674Z"
    }
   },
   "outputs": [],
   "source": [
    "#Create a Decision Tree classifier\n",
    "from sklearn.tree import DecisionTreeClassifier\n",
    "decision_tree_model = DecisionTreeClassifier(random_state=42)\n",
    "\n",
    "# Train the model\n",
    "decision_tree_model.fit(X_train_scaled, y_train)\n",
    "\n",
    "# Make predictions on the test set\n",
    "y_pred = decision_tree_model.predict(X_test)\n",
    "\n"
   ]
  },
  {
   "cell_type": "code",
   "execution_count": null,
   "id": "622dc3a9",
   "metadata": {
    "ExecuteTime": {
     "end_time": "2024-01-25T06:58:32.842674Z",
     "start_time": "2024-01-25T06:58:32.842674Z"
    }
   },
   "outputs": [],
   "source": [
    "accuracy_decision_tree = accuracy_score(y_test, y_pred)\n",
    "print(f\"Accuracy: {accuracy_decision_tree * 100:.2f}%\")"
   ]
  },
  {
   "cell_type": "code",
   "execution_count": null,
   "id": "76c57090",
   "metadata": {
    "ExecuteTime": {
     "end_time": "2024-01-25T06:58:32.851226Z",
     "start_time": "2024-01-25T06:58:32.851226Z"
    }
   },
   "outputs": [],
   "source": [
    "from sklearn.metrics import confusion_matrix \n",
    "cm = confusion_matrix(y_test,y_pred)\n",
    "cm"
   ]
  },
  {
   "cell_type": "code",
   "execution_count": null,
   "id": "6e81f84f",
   "metadata": {
    "ExecuteTime": {
     "end_time": "2024-01-25T06:58:32.860026Z",
     "start_time": "2024-01-25T06:58:32.860026Z"
    }
   },
   "outputs": [],
   "source": [
    "sns.heatmap(cm, \n",
    "            annot=True,\n",
    "            fmt='g', \n",
    "            xticklabels=['approve', 'not approve'],\n",
    "            yticklabels=['approve', 'not approve'])  \n",
    "plt.ylabel('Prediction', fontsize=13)\n",
    "plt.xlabel('Actual', fontsize=13)\n",
    "plt.title('Confusion Matrix', fontsize=17)\n",
    "plt.show()"
   ]
  },
  {
   "cell_type": "code",
   "execution_count": null,
   "id": "137e9479",
   "metadata": {
    "ExecuteTime": {
     "end_time": "2024-01-25T06:58:32.866850Z",
     "start_time": "2024-01-25T06:58:32.866850Z"
    }
   },
   "outputs": [],
   "source": [
    "fn = 28\n",
    "tp = 266\n",
    "\n",
    "\n",
    "\n",
    "type_2_error =  fn / (fn + tp) if (fn + tp) != 0 else 0\n",
    "\n",
    "type_2_error_percentage = type_2_error * 100\n",
    "\n",
    "print(\"Type 2 error:\", type_2_error_percentage, \"%\")\n",
    "\n",
    "\n"
   ]
  },
  {
   "cell_type": "markdown",
   "id": "398d8a9f",
   "metadata": {},
   "source": [
    "# section 2 inital hypothesis \n"
   ]
  },
  {
   "cell_type": "markdown",
   "id": "f8ae30a7",
   "metadata": {
    "ExecuteTime": {
     "end_time": "2024-01-24T07:53:43.880797Z",
     "start_time": "2024-01-24T07:53:43.862887Z"
    }
   },
   "source": [
    "Null hypothesis(H0) = logistic regression model is better then decision tree to predict this model \n",
    "accuracy_score of logistic regression model = 91.21%\n",
    "accuracy_score of decision tree model = 71.83% \n",
    "# accuracy score of the  score of the both model is almost same \n",
    "# now let's check type2 error \n",
    "Type 2 error in logistic regression model is 8.75%\n",
    "Type 2 error in decision tree model is 9.27%\n",
    "#here we can is that type2 error in decision treee algorithm is higher then type2 error in logistic regression algorithem \n",
    "# so we can in infer that Null Hypothesis(H0) is true\n",
    "\n",
    "\n"
   ]
  },
  {
   "cell_type": "code",
   "execution_count": null,
   "id": "dcf7b950",
   "metadata": {},
   "outputs": [],
   "source": []
  },
  {
   "cell_type": "code",
   "execution_count": null,
   "id": "179555fd",
   "metadata": {},
   "outputs": [],
   "source": []
  },
  {
   "cell_type": "markdown",
   "id": "84877f47",
   "metadata": {},
   "source": [
    "   ## using random forest classifier model"
   ]
  },
  {
   "cell_type": "code",
   "execution_count": null,
   "id": "1b6d3cda",
   "metadata": {
    "ExecuteTime": {
     "end_time": "2024-01-25T06:58:32.870270Z",
     "start_time": "2024-01-25T06:58:32.870270Z"
    }
   },
   "outputs": [],
   "source": [
    "from sklearn.ensemble import RandomForestClassifier \n",
    "Random_forest_model = RandomForestClassifier()"
   ]
  },
  {
   "cell_type": "code",
   "execution_count": null,
   "id": "c883de53",
   "metadata": {
    "ExecuteTime": {
     "end_time": "2024-01-25T06:58:32.875295Z",
     "start_time": "2024-01-25T06:58:32.875295Z"
    }
   },
   "outputs": [],
   "source": [
    "# Train the model\n",
    "Random_forest_model.fit(X_train_scaled, y_train)\n",
    "\n",
    "# Make predictions on the test set\n",
    "y_pred = Random_forest_model.predict(X_test)\n"
   ]
  },
  {
   "cell_type": "code",
   "execution_count": null,
   "id": "5e65f1b6",
   "metadata": {
    "ExecuteTime": {
     "end_time": "2024-01-25T06:58:32.883332Z",
     "start_time": "2024-01-25T06:58:32.883332Z"
    }
   },
   "outputs": [],
   "source": [
    "accuracy_Random_forest = accuracy_score(y_test, y_pred)\n",
    "print(f\"Accuracy: {accuracy_Random_forest * 100:.2f}%\")"
   ]
  },
  {
   "cell_type": "markdown",
   "id": "70afe14b",
   "metadata": {
    "ExecuteTime": {
     "end_time": "2024-01-25T06:58:32.643856Z",
     "start_time": "2024-01-25T06:58:32.643856Z"
    }
   },
   "source": []
  },
  {
   "cell_type": "code",
   "execution_count": null,
   "id": "8a8106d8",
   "metadata": {
    "ExecuteTime": {
     "end_time": "2024-01-25T06:58:32.883332Z",
     "start_time": "2024-01-25T06:58:32.883332Z"
    }
   },
   "outputs": [],
   "source": [
    "from sklearn.metrics import confusion_matrix \n",
    "cm = confusion_matrix(y_test,y_pred)\n",
    "cm"
   ]
  },
  {
   "cell_type": "code",
   "execution_count": 53,
   "id": "8e8bb5eb",
   "metadata": {
    "ExecuteTime": {
     "end_time": "2024-01-25T06:59:29.622350Z",
     "start_time": "2024-01-25T06:59:29.172870Z"
    }
   },
   "outputs": [
    {
     "data": {
      "image/png": "[encoded data removed]",
      "text/plain": [
       "<Figure size 640x480 with 2 Axes>"
      ]
     },
     "metadata": {},
     "output_type": "display_data"
    }
   ],
   "source": [
    "sns.heatmap(cm, \n",
    "            annot=True,\n",
    "            fmt='g', \n",
    "            xticklabels=['approve', 'not approve'],\n",
    "            yticklabels=['approve', 'not approve'])  \n",
    "plt.ylabel('Prediction', fontsize=13)\n",
    "plt.xlabel('Actual', fontsize=13)\n",
    "plt.title('Confusion Matrix', fontsize=17)\n",
    "plt.show()"
   ]
  },
  {
   "cell_type": "code",
   "execution_count": 54,
   "id": "91c8ba3d",
   "metadata": {
    "ExecuteTime": {
     "end_time": "2024-01-25T06:59:46.242384Z",
     "start_time": "2024-01-25T06:59:46.229098Z"
    }
   },
   "outputs": [
    {
     "name": "stdout",
     "output_type": "stream",
     "text": [
      "Type 2 error: 10.15625 %\n"
     ]
    }
   ],
   "source": [
    "fn = 39\n",
    "tp = 345\n",
    "\n",
    "\n",
    "\n",
    "type_2_error =  fn / (fn + tp) if (fn + tp) != 0 else 0\n",
    "\n",
    "type_2_error_percentage = type_2_error * 100\n",
    "\n",
    "print(\"Type 2 error:\", type_2_error_percentage, \"%\")\n",
    "\n"
   ]
  },
  {
   "cell_type": "markdown",
   "id": "a58b427d",
   "metadata": {},
   "source": [
    "## Analysis using KNN"
   ]
  },
  {
   "cell_type": "code",
   "execution_count": null,
   "id": "67085294",
   "metadata": {
    "ExecuteTime": {
     "end_time": "2024-01-25T06:58:32.901388Z",
     "start_time": "2024-01-25T06:58:32.901388Z"
    }
   },
   "outputs": [],
   "source": [
    "from sklearn.model_selection import train_test_split\n",
    "X_train, X_test, y_train, y_test = train_test_split(X_encoded,Y , \n",
    "                                   random_state=0,  \n",
    "                                   test_size=0.25,  \n",
    "                                   shuffle=True)\n",
    "\n",
    "from sklearn.preprocessing import StandardScaler\n",
    "\n",
    "scaler = StandardScaler()\n",
    "X_train_scaled = scaler.fit_transform(X_train)\n",
    "X_test_scaled = scaler.transform(X_test)\n",
    "\n"
   ]
  },
  {
   "cell_type": "code",
   "execution_count": null,
   "id": "5691f175",
   "metadata": {
    "ExecuteTime": {
     "end_time": "2024-01-25T06:58:32.909909Z",
     "start_time": "2024-01-25T06:58:32.909909Z"
    }
   },
   "outputs": [],
   "source": [
    " # Create and fit KNN classifier\n",
    "from sklearn.neighbors import KNeighborsClassifier\n",
    "\n",
    "\n",
    "knn = KNeighborsClassifier(n_neighbors=3)\n",
    "knn.fit(X_train_scaled, y_train)\n",
    "\n",
    "# Make predictions on the test set\n",
    "y_pred = knn.predict(X_test_scaled)\n",
    "\n",
    "# Evaluate the accuracy of the model\n",
    "accuracy_knn = accuracy_score(y_test, y_pred)\n",
    "print(\"Accuracy:\", accuracy*100)"
   ]
  },
  {
   "cell_type": "code",
   "execution_count": null,
   "id": "e544d093",
   "metadata": {},
   "outputs": [],
   "source": []
  },
  {
   "cell_type": "markdown",
   "id": "37ddddd0",
   "metadata": {},
   "source": [
    "section 2 : Intial Hypothesis "
   ]
  },
  {
   "cell_type": "markdown",
   "id": "16f1cc3e",
   "metadata": {
    "ExecuteTime": {
     "end_time": "2024-01-24T08:40:26.716285Z",
     "start_time": "2024-01-24T08:40:26.703591Z"
    }
   },
   "source": [
    "NullHypothesis(H0): Accuracy_score of Random_forest is higher than decision tree"
   ]
  },
  {
   "cell_type": "code",
   "execution_count": null,
   "id": "7484ff27",
   "metadata": {
    "ExecuteTime": {
     "end_time": "2024-01-25T06:58:32.909909Z",
     "start_time": "2024-01-25T06:58:32.909909Z"
    }
   },
   "outputs": [],
   "source": [
    "decision_tree_accuracy_percentage = accuracy_decision_tree* 100\n",
    "random_forest_accuracy_percentage = accuracy_Random_forest * 100\n",
    "\n",
    "col = ['accuracyofdecision_tree', 'accuracyofRandom_forest']\n",
    "accuracy_scores = [decision_tree_accuracy_percentage, random_forest_accuracy_percentage]\n",
    "\n",
    "\n",
    "\n",
    "\n",
    "# Plotting the bar graph\n",
    "plt.bar(col,accuracy_scores, color=['blue', 'green'])\n",
    "plt.xlabel('Model')\n",
    "plt.ylabel('Accuracy Score (%)')\n",
    "plt.title('Comparison of Decision Tree and Random Forest Accuracy')\n",
    "plt.ylim(0, 100)  # Set y-axis range between 0 and 100\n",
    "plt.show()"
   ]
  },
  {
   "cell_type": "markdown",
   "id": "01b3281b",
   "metadata": {},
   "source": [
    "As we can see in this graph accuracy score of Random forest is greater than decision tree . so, our Null hypothesis is accepted."
   ]
  },
  {
   "cell_type": "markdown",
   "id": "2d5ffc4e",
   "metadata": {},
   "source": [
    "##  analysis of features and target variable"
   ]
  },
  {
   "cell_type": "markdown",
   "id": "01cd3f74",
   "metadata": {},
   "source": [
    "  "
   ]
  },
  {
   "cell_type": "code",
   "execution_count": null,
   "id": "c0713d7d",
   "metadata": {
    "ExecuteTime": {
     "end_time": "2024-01-25T06:58:32.909909Z",
     "start_time": "2024-01-25T06:58:32.909909Z"
    }
   },
   "outputs": [],
   "source": [
    "plt.figure(figsize=(10, 6))\n",
    "sns.countplot(x='EDUCATION', hue='label', data=df2, palette='pastel', order=df2['EDUCATION'].value_counts().index)\n",
    "plt.title('Relationship between Education and Credit Card Approval')\n",
    "plt.xlabel('Education Level')\n",
    "plt.ylabel('Count')\n",
    "plt.xticks(rotation=45, ha='right')  # Rotate x-axis labels for better visibility\n",
    "plt.legend(title='Credit Card Approval', labels=[' Approved', 'Not Approved'])\n",
    "plt.show()"
   ]
  },
  {
   "cell_type": "markdown",
   "id": "54b141cb",
   "metadata": {},
   "source": [
    "\n",
    "Based on the graph, it's clear that individuals with Secondary/secondary special education show the highest number of both approvals and rejections. Next in line are those with Higher education, experiencing the second-highest count of both approvals and rejections. Subsequently, individuals with Incomplete higher, Lower secondary, and Academic degree backgrounds follow in descending order regarding the number of approvals and rejections.\n",
    "\n",
    "\n",
    "\n",
    "\n",
    "\n"
   ]
  },
  {
   "cell_type": "code",
   "execution_count": null,
   "id": "8a12ee32",
   "metadata": {
    "ExecuteTime": {
     "end_time": "2024-01-25T06:58:32.925343Z",
     "start_time": "2024-01-25T06:58:32.925343Z"
    }
   },
   "outputs": [],
   "source": [
    "## getting statitcal measure for the annual_income col\n",
    "summary_stats = df['Annual_income'].describe()\n",
    "\n",
    "# Convert to a more conventional style\n",
    "formatted_stats = summary_stats.apply(lambda x: f'{x:,.3f}' if x >= 1000 else f'{x:,.0f}')\n",
    "\n",
    "# Display the formatted statistics\n",
    "print(formatted_stats)"
   ]
  },
  {
   "cell_type": "code",
   "execution_count": null,
   "id": "ad6af323",
   "metadata": {
    "ExecuteTime": {
     "end_time": "2024-01-25T06:58:32.929078Z",
     "start_time": "2024-01-25T06:58:32.929078Z"
    }
   },
   "outputs": [],
   "source": [
    "df2['label'].value_counts().sum"
   ]
  },
  {
   "cell_type": "markdown",
   "id": "ba34f188",
   "metadata": {},
   "source": [
    "here we can see that  approvement of credit card 1373 and not approvement of credit card 175"
   ]
  },
  {
   "cell_type": "markdown",
   "id": "73b9b389",
   "metadata": {},
   "source": [
    "# section 3 : data analysis approach"
   ]
  },
  {
   "cell_type": "markdown",
   "id": "16e28d95",
   "metadata": {},
   "source": [
    "Q1 . What approach are you going to take in order to prove or disprove your hypothesis? \n",
    "here my initial hypothesis :Accuracy_score of Random_forest is higher than decision tree  \n",
    "for this first of all I find accuracy score of both of these model then as you can see I plot bar graph of accuracy_score \n",
    "of both this model . As we can see from graph that the accuracy score of the Random_forest is greater than the accuracy score of the decision tree "
   ]
  },
  {
   "cell_type": "markdown",
   "id": "2fc23936",
   "metadata": {},
   "source": [
    "Q2.What feature engineering techniques will be relevant to your project?\n",
    "1. first of all we have to remove the null values from the to deal with it \n",
    "for that I used fillna() method  for numrical data I filled null value with the median of the column. \n",
    "for categorical data I used the mode of the column to replace the null value\n",
    "2. remove the unwanted column \n",
    "To get more accurate result of the model we have to remove unwanted columns . In This project I found that 'Phone', 'Work_Phone', 'EMAIL_ID','Mobile_phone', 'Ind_ID' is unwanted column so I removed these columns\n",
    "3. Modify the columns if need to get accurate result\n",
    "In our project I replace the 'Birthday_count' column with 'Age'  using Age = Birthday_count // 365 so we are able to predict \n",
    "more accurate value\n",
    "\n"
   ]
  },
  {
   "cell_type": "markdown",
   "id": "3fe2d5ba",
   "metadata": {},
   "source": [
    "Q3. Please justify your data analysis approach. l \n",
    "For data analysis, I began by performing data cleaning, utilizing methods such as fillna(), median, and mode to handle missing values. Subsequently, I developed logistic regression and decision tree models for analysis and prediction. Additionally, I created a bar graph to visualize the relationship between education and the target variable, drawing inferences based on the plotted data.\n",
    "\n",
    "\n",
    "\n",
    "\n",
    "\n",
    "\n",
    "\n",
    "\n"
   ]
  },
  {
   "cell_type": "markdown",
   "id": "4c8a91ab",
   "metadata": {},
   "source": [
    "     \n",
    "     "
   ]
  },
  {
   "cell_type": "markdown",
   "id": "41c5e055",
   "metadata": {},
   "source": [
    "Q4. Identify important patterns in your data using the EDA approach to justify your findings.\n",
    "\"I used the .corrwith method to assess the relationship between the target variable and features. Additionally, I created a bar graph depicting the relationship between the target variable (label) and education level. I constructed confusion matrices for different models to evaluate accuracy and identify errors.\" Considering the accuracy score and taking into account Type 2 errors, I determined that logistic regression is the most relevant model for this credit card approval project.\n",
    "\n",
    "\n",
    "\n",
    "\n",
    "\n",
    "\n",
    "\n",
    "\n",
    "\n",
    "\n"
   ]
  },
  {
   "cell_type": "markdown",
   "id": "f66db105",
   "metadata": {},
   "source": [
    "## section 4 machine learning approach"
   ]
  },
  {
   "cell_type": "markdown",
   "id": "8e934aae",
   "metadata": {},
   "source": [
    "Q1. What method will you use for machine learning based predictions for credit card approval?\n",
    "Here I used logistic regression , decision tree , random forest to perform predicitions.\n",
    " "
   ]
  },
  {
   "cell_type": "markdown",
   "id": "55eaab0e",
   "metadata": {},
   "source": [
    "Q2. Please justify the most appropriate model.\n",
    "as we evaluated the model here are some findings \n",
    "accuracy_score of logistic regression = 89.92% \n",
    "accuracy_score of decision tree = 72.09%\n",
    "accuracy_score of random_forest = 89.41%\n",
    "type2 error in logistic regression = 9.9% \n",
    "type2 error in decision_tree = 9.52%\n",
    "type2 error in random_forest = 10.52% \n",
    "accorrding to this data we can infer that logistic regression is most appropriate model.\n"
   ]
  },
  {
   "cell_type": "markdown",
   "id": "1106682d",
   "metadata": {},
   "source": [
    "\n",
    "Q3. Please perform necessary steps required to improve the accuracy of your model.\n",
    "In this project in logistic regression I use GridSearchCV done some hyper parameter tuning   to improve the accuracy of the model.   \n"
   ]
  },
  {
   "cell_type": "markdown",
   "id": "1e4b0c22",
   "metadata": {},
   "source": [
    "\n",
    "Q4.Please compare all models (at least 4  models).\n",
    "In this project I used 4 model 1. logistic regression 2.Decision tree 3. Random forest 4. KNN  \n",
    "Let's comapre this with accuracy score .\n",
    "\n"
   ]
  },
  {
   "cell_type": "code",
   "execution_count": 35,
   "id": "f6bf566d",
   "metadata": {
    "ExecuteTime": {
     "end_time": "2024-01-26T09:18:20.474856Z",
     "start_time": "2024-01-26T09:18:20.060475Z"
    }
   },
   "outputs": [
    {
     "data": {
      "image/png": "[encoded data removed]",
      "text/plain": [
       "<Figure size 640x480 with 1 Axes>"
      ]
     },
     "metadata": {},
     "output_type": "display_data"
    }
   ],
   "source": [
    "accuracy_score_logisticRegression = 89.92\n",
    "accuracy_score_decision_tree = 72.09\n",
    "accuracy_score_Random_forest = 89.41\n",
    "accuracy_score_knn = 86\n",
    "accuracy_scores = [89.92, 72.09, 89.41, 86]\n",
    "\n",
    "# Models\n",
    "models = ['Logistic Regression', 'Decision Tree', 'Random Forest', 'KNN']\n",
    "\n",
    "# Create a bar chart\n",
    "plt.bar(models, accuracy_scores, color=['blue', 'green', 'red', 'purple'])\n",
    "plt.xlabel('Models')\n",
    "plt.ylabel('Accuracy Score (%)')\n",
    "plt.title('Accuracy Scores for Different Models')\n",
    "plt.ylim(0, 100)\n",
    "\n",
    "# Display the accuracy scores on top of the bars\n",
    "for i, score in enumerate(accuracy_scores):\n",
    "    plt.text(i, score + 1, f'{score:.2f}%', ha='center', va='bottom')\n",
    "\n",
    "# Show the plot\n",
    "plt.show()"
   ]
  },
  {
   "cell_type": "markdown",
   "id": "87567ec5",
   "metadata": {},
   "source": [
    "Here you can see that the accuracy score of the Logistic regression model highst among the all the model . Decision Tree has lowest accuracy number among all the model "
   ]
  },
  {
   "cell_type": "markdown",
   "id": "3791c45d",
   "metadata": {},
   "source": [
    "# SQL Queries  "
   ]
  },
  {
   "cell_type": "code",
   "execution_count": 36,
   "id": "a7c4d02d",
   "metadata": {
    "ExecuteTime": {
     "end_time": "2024-01-26T09:18:21.136211Z",
     "start_time": "2024-01-26T09:18:20.724194Z"
    }
   },
   "outputs": [
    {
     "data": {
      "text/html": [
       "<div>\n",
       "<style scoped>\n",
       "    .dataframe tbody tr th:only-of-type {\n",
       "        vertical-align: middle;\n",
       "    }\n",
       "\n",
       "    .dataframe tbody tr th {\n",
       "        vertical-align: top;\n",
       "    }\n",
       "\n",
       "    .dataframe thead th {\n",
       "        text-align: right;\n",
       "    }\n",
       "</style>\n",
       "<table border=\"1\" class=\"dataframe\">\n",
       "  <thead>\n",
       "    <tr style=\"text-align: right;\">\n",
       "      <th></th>\n",
       "      <th>Ind_ID</th>\n",
       "      <th>GENDER</th>\n",
       "      <th>Car_Owner</th>\n",
       "      <th>Propert_Owner</th>\n",
       "      <th>CHILDREN</th>\n",
       "      <th>Annual_income</th>\n",
       "      <th>Type_Income</th>\n",
       "      <th>EDUCATION</th>\n",
       "      <th>Marital_status</th>\n",
       "      <th>Housing_type</th>\n",
       "      <th>Employed_days</th>\n",
       "      <th>Type_Occupation</th>\n",
       "      <th>Family_Members</th>\n",
       "      <th>label</th>\n",
       "      <th>Age</th>\n",
       "    </tr>\n",
       "  </thead>\n",
       "  <tbody>\n",
       "    <tr>\n",
       "      <th>0</th>\n",
       "      <td>5118538</td>\n",
       "      <td>F</td>\n",
       "      <td>N</td>\n",
       "      <td>Y</td>\n",
       "      <td>1</td>\n",
       "      <td>81000.0</td>\n",
       "      <td>Working</td>\n",
       "      <td>Secondary / secondary special</td>\n",
       "      <td>Married</td>\n",
       "      <td>Municipal apartment</td>\n",
       "      <td>-1.744384</td>\n",
       "      <td>Cleaning staff</td>\n",
       "      <td>3</td>\n",
       "      <td>0</td>\n",
       "      <td>43.0</td>\n",
       "    </tr>\n",
       "    <tr>\n",
       "      <th>1</th>\n",
       "      <td>5069057</td>\n",
       "      <td>M</td>\n",
       "      <td>Y</td>\n",
       "      <td>N</td>\n",
       "      <td>0</td>\n",
       "      <td>225000.0</td>\n",
       "      <td>Commercial associate</td>\n",
       "      <td>Secondary / secondary special</td>\n",
       "      <td>Married</td>\n",
       "      <td>House / apartment</td>\n",
       "      <td>-0.680548</td>\n",
       "      <td>Laborers</td>\n",
       "      <td>2</td>\n",
       "      <td>0</td>\n",
       "      <td>48.0</td>\n",
       "    </tr>\n",
       "    <tr>\n",
       "      <th>2</th>\n",
       "      <td>5066689</td>\n",
       "      <td>F</td>\n",
       "      <td>N</td>\n",
       "      <td>Y</td>\n",
       "      <td>0</td>\n",
       "      <td>180000.0</td>\n",
       "      <td>Commercial associate</td>\n",
       "      <td>Higher education</td>\n",
       "      <td>Civil marriage</td>\n",
       "      <td>House / apartment</td>\n",
       "      <td>-0.093425</td>\n",
       "      <td>Sales staff</td>\n",
       "      <td>2</td>\n",
       "      <td>0</td>\n",
       "      <td>35.0</td>\n",
       "    </tr>\n",
       "    <tr>\n",
       "      <th>3</th>\n",
       "      <td>5086062</td>\n",
       "      <td>F</td>\n",
       "      <td>N</td>\n",
       "      <td>Y</td>\n",
       "      <td>0</td>\n",
       "      <td>135000.0</td>\n",
       "      <td>State servant</td>\n",
       "      <td>Secondary / secondary special</td>\n",
       "      <td>Married</td>\n",
       "      <td>House / apartment</td>\n",
       "      <td>-2.581370</td>\n",
       "      <td>Core staff</td>\n",
       "      <td>2</td>\n",
       "      <td>0</td>\n",
       "      <td>56.0</td>\n",
       "    </tr>\n",
       "    <tr>\n",
       "      <th>4</th>\n",
       "      <td>5113717</td>\n",
       "      <td>F</td>\n",
       "      <td>N</td>\n",
       "      <td>N</td>\n",
       "      <td>1</td>\n",
       "      <td>135000.0</td>\n",
       "      <td>Working</td>\n",
       "      <td>Secondary / secondary special</td>\n",
       "      <td>Married</td>\n",
       "      <td>House / apartment</td>\n",
       "      <td>-0.836712</td>\n",
       "      <td>Private service staff</td>\n",
       "      <td>3</td>\n",
       "      <td>0</td>\n",
       "      <td>44.0</td>\n",
       "    </tr>\n",
       "  </tbody>\n",
       "</table>\n",
       "</div>"
      ],
      "text/plain": [
       "    Ind_ID GENDER Car_Owner Propert_Owner  CHILDREN  Annual_income  \\\n",
       "0  5118538      F         N             Y         1        81000.0   \n",
       "1  5069057      M         Y             N         0       225000.0   \n",
       "2  5066689      F         N             Y         0       180000.0   \n",
       "3  5086062      F         N             Y         0       135000.0   \n",
       "4  5113717      F         N             N         1       135000.0   \n",
       "\n",
       "            Type_Income                      EDUCATION  Marital_status  \\\n",
       "0               Working  Secondary / secondary special         Married   \n",
       "1  Commercial associate  Secondary / secondary special         Married   \n",
       "2  Commercial associate               Higher education  Civil marriage   \n",
       "3         State servant  Secondary / secondary special         Married   \n",
       "4               Working  Secondary / secondary special         Married   \n",
       "\n",
       "          Housing_type  Employed_days        Type_Occupation  Family_Members  \\\n",
       "0  Municipal apartment      -1.744384         Cleaning staff               3   \n",
       "1    House / apartment      -0.680548               Laborers               2   \n",
       "2    House / apartment      -0.093425            Sales staff               2   \n",
       "3    House / apartment      -2.581370             Core staff               2   \n",
       "4    House / apartment      -0.836712  Private service staff               3   \n",
       "\n",
       "   label   Age  \n",
       "0      0  43.0  \n",
       "1      0  48.0  \n",
       "2      0  35.0  \n",
       "3      0  56.0  \n",
       "4      0  44.0  "
      ]
     },
     "execution_count": 36,
     "metadata": {},
     "output_type": "execute_result"
    }
   ],
   "source": [
    "df_database = pd.read_csv('file1.csv')\n",
    "df_database = df_database.drop(columns='Unnamed: 0')\n",
    "import duckdb\n",
    "conn=duckdb.connect()\n",
    "conn.register('df',df_database)\n",
    "conn.execute(\"select * from df where label='0'\").fetchdf().head(5)"
   ]
  },
  {
   "cell_type": "markdown",
   "id": "b2e181a7",
   "metadata": {},
   "source": [
    "1.Group the customers based on their income type and find the average of their annual income.\n",
    "\n"
   ]
  },
  {
   "cell_type": "code",
   "execution_count": 37,
   "id": "052b6559",
   "metadata": {
    "ExecuteTime": {
     "end_time": "2024-01-26T09:18:21.171784Z",
     "start_time": "2024-01-26T09:18:21.138309Z"
    }
   },
   "outputs": [
    {
     "data": {
      "text/html": [
       "<div>\n",
       "<style scoped>\n",
       "    .dataframe tbody tr th:only-of-type {\n",
       "        vertical-align: middle;\n",
       "    }\n",
       "\n",
       "    .dataframe tbody tr th {\n",
       "        vertical-align: top;\n",
       "    }\n",
       "\n",
       "    .dataframe thead th {\n",
       "        text-align: right;\n",
       "    }\n",
       "</style>\n",
       "<table border=\"1\" class=\"dataframe\">\n",
       "  <thead>\n",
       "    <tr style=\"text-align: right;\">\n",
       "      <th></th>\n",
       "      <th>Average_of_annual_income</th>\n",
       "      <th>Type_Income</th>\n",
       "    </tr>\n",
       "  </thead>\n",
       "  <tbody>\n",
       "    <tr>\n",
       "      <th>0</th>\n",
       "      <td>155343.496283</td>\n",
       "      <td>Pensioner</td>\n",
       "    </tr>\n",
       "    <tr>\n",
       "      <th>1</th>\n",
       "      <td>180848.210526</td>\n",
       "      <td>Working</td>\n",
       "    </tr>\n",
       "    <tr>\n",
       "      <th>2</th>\n",
       "      <td>211422.413793</td>\n",
       "      <td>State servant</td>\n",
       "    </tr>\n",
       "    <tr>\n",
       "      <th>3</th>\n",
       "      <td>233107.397260</td>\n",
       "      <td>Commercial associate</td>\n",
       "    </tr>\n",
       "  </tbody>\n",
       "</table>\n",
       "</div>"
      ],
      "text/plain": [
       "   Average_of_annual_income           Type_Income\n",
       "0             155343.496283             Pensioner\n",
       "1             180848.210526               Working\n",
       "2             211422.413793         State servant\n",
       "3             233107.397260  Commercial associate"
      ]
     },
     "execution_count": 37,
     "metadata": {},
     "output_type": "execute_result"
    }
   ],
   "source": [
    "conn.execute(\"select avg(Annual_income) as Average_of_annual_income,Type_income from df group by Type_Income \").fetchdf()"
   ]
  },
  {
   "cell_type": "markdown",
   "id": "04fb0137",
   "metadata": {},
   "source": [
    "2. Find the female owners of cars and property."
   ]
  },
  {
   "cell_type": "code",
   "execution_count": 38,
   "id": "16daa96f",
   "metadata": {
    "ExecuteTime": {
     "end_time": "2024-01-26T09:18:21.615006Z",
     "start_time": "2024-01-26T09:18:21.584209Z"
    }
   },
   "outputs": [
    {
     "data": {
      "text/html": [
       "<div>\n",
       "<style scoped>\n",
       "    .dataframe tbody tr th:only-of-type {\n",
       "        vertical-align: middle;\n",
       "    }\n",
       "\n",
       "    .dataframe tbody tr th {\n",
       "        vertical-align: top;\n",
       "    }\n",
       "\n",
       "    .dataframe thead th {\n",
       "        text-align: right;\n",
       "    }\n",
       "</style>\n",
       "<table border=\"1\" class=\"dataframe\">\n",
       "  <thead>\n",
       "    <tr style=\"text-align: right;\">\n",
       "      <th></th>\n",
       "      <th>female owners of car and property</th>\n",
       "    </tr>\n",
       "  </thead>\n",
       "  <tbody>\n",
       "    <tr>\n",
       "      <th>0</th>\n",
       "      <td>5018498</td>\n",
       "    </tr>\n",
       "    <tr>\n",
       "      <th>1</th>\n",
       "      <td>5018501</td>\n",
       "    </tr>\n",
       "    <tr>\n",
       "      <th>2</th>\n",
       "      <td>5018503</td>\n",
       "    </tr>\n",
       "    <tr>\n",
       "      <th>3</th>\n",
       "      <td>5024213</td>\n",
       "    </tr>\n",
       "    <tr>\n",
       "      <th>4</th>\n",
       "      <td>5036660</td>\n",
       "    </tr>\n",
       "    <tr>\n",
       "      <th>...</th>\n",
       "      <td>...</td>\n",
       "    </tr>\n",
       "    <tr>\n",
       "      <th>174</th>\n",
       "      <td>5048458</td>\n",
       "    </tr>\n",
       "    <tr>\n",
       "      <th>175</th>\n",
       "      <td>5023719</td>\n",
       "    </tr>\n",
       "    <tr>\n",
       "      <th>176</th>\n",
       "      <td>5033520</td>\n",
       "    </tr>\n",
       "    <tr>\n",
       "      <th>177</th>\n",
       "      <td>5024049</td>\n",
       "    </tr>\n",
       "    <tr>\n",
       "      <th>178</th>\n",
       "      <td>5053790</td>\n",
       "    </tr>\n",
       "  </tbody>\n",
       "</table>\n",
       "<p>179 rows × 1 columns</p>\n",
       "</div>"
      ],
      "text/plain": [
       "     female owners of car and property\n",
       "0                              5018498\n",
       "1                              5018501\n",
       "2                              5018503\n",
       "3                              5024213\n",
       "4                              5036660\n",
       "..                                 ...\n",
       "174                            5048458\n",
       "175                            5023719\n",
       "176                            5033520\n",
       "177                            5024049\n",
       "178                            5053790\n",
       "\n",
       "[179 rows x 1 columns]"
      ]
     },
     "execution_count": 38,
     "metadata": {},
     "output_type": "execute_result"
    }
   ],
   "source": [
    "conn.execute(\"select Ind_Id as 'female owners of car and property' from df where GENDER='F'and Car_Owner='Y'and Propert_Owner='Y'\").fetchdf()"
   ]
  },
  {
   "cell_type": "markdown",
   "id": "c87e53ba",
   "metadata": {
    "ExecuteTime": {
     "end_time": "2024-01-25T07:13:26.271897Z",
     "start_time": "2024-01-25T07:13:26.231431Z"
    }
   },
   "source": [
    "3.Find the male customers who are staying with their families"
   ]
  },
  {
   "cell_type": "code",
   "execution_count": 135,
   "id": "3bb4ceaf",
   "metadata": {
    "ExecuteTime": {
     "end_time": "2024-01-25T10:55:46.118356Z",
     "start_time": "2024-01-25T10:55:46.073104Z"
    },
    "scrolled": true
   },
   "outputs": [
    {
     "data": {
      "text/html": [
       "<div>\n",
       "<style scoped>\n",
       "    .dataframe tbody tr th:only-of-type {\n",
       "        vertical-align: middle;\n",
       "    }\n",
       "\n",
       "    .dataframe tbody tr th {\n",
       "        vertical-align: top;\n",
       "    }\n",
       "\n",
       "    .dataframe thead th {\n",
       "        text-align: right;\n",
       "    }\n",
       "</style>\n",
       "<table border=\"1\" class=\"dataframe\">\n",
       "  <thead>\n",
       "    <tr style=\"text-align: right;\">\n",
       "      <th></th>\n",
       "      <th>male customers staying with their families</th>\n",
       "    </tr>\n",
       "  </thead>\n",
       "  <tbody>\n",
       "    <tr>\n",
       "      <th>0</th>\n",
       "      <td>5008827</td>\n",
       "    </tr>\n",
       "    <tr>\n",
       "      <th>1</th>\n",
       "      <td>5010864</td>\n",
       "    </tr>\n",
       "    <tr>\n",
       "      <th>2</th>\n",
       "      <td>5010868</td>\n",
       "    </tr>\n",
       "    <tr>\n",
       "      <th>3</th>\n",
       "      <td>5021303</td>\n",
       "    </tr>\n",
       "    <tr>\n",
       "      <th>4</th>\n",
       "      <td>5021310</td>\n",
       "    </tr>\n",
       "    <tr>\n",
       "      <th>...</th>\n",
       "      <td>...</td>\n",
       "    </tr>\n",
       "    <tr>\n",
       "      <th>465</th>\n",
       "      <td>5096856</td>\n",
       "    </tr>\n",
       "    <tr>\n",
       "      <th>466</th>\n",
       "      <td>5090942</td>\n",
       "    </tr>\n",
       "    <tr>\n",
       "      <th>467</th>\n",
       "      <td>5118268</td>\n",
       "    </tr>\n",
       "    <tr>\n",
       "      <th>468</th>\n",
       "      <td>5115992</td>\n",
       "    </tr>\n",
       "    <tr>\n",
       "      <th>469</th>\n",
       "      <td>5118219</td>\n",
       "    </tr>\n",
       "  </tbody>\n",
       "</table>\n",
       "<p>470 rows × 1 columns</p>\n",
       "</div>"
      ],
      "text/plain": [
       "     male customers staying with their families\n",
       "0                                       5008827\n",
       "1                                       5010864\n",
       "2                                       5010868\n",
       "3                                       5021303\n",
       "4                                       5021310\n",
       "..                                          ...\n",
       "465                                     5096856\n",
       "466                                     5090942\n",
       "467                                     5118268\n",
       "468                                     5115992\n",
       "469                                     5118219\n",
       "\n",
       "[470 rows x 1 columns]"
      ]
     },
     "execution_count": 135,
     "metadata": {},
     "output_type": "execute_result"
    }
   ],
   "source": [
    "conn.execute(\"select Ind_Id as 'male customers staying with their families' from df where GENDER='M' and Family_Members >=2\").fetchdf()  "
   ]
  },
  {
   "cell_type": "markdown",
   "id": "20ab0537",
   "metadata": {
    "ExecuteTime": {
     "end_time": "2024-01-25T08:14:03.963622Z",
     "start_time": "2024-01-25T08:14:03.947203Z"
    }
   },
   "source": [
    "4.Please list the top five people having the highest income."
   ]
  },
  {
   "cell_type": "code",
   "execution_count": 136,
   "id": "7d2e2db0",
   "metadata": {
    "ExecuteTime": {
     "end_time": "2024-01-25T10:55:49.433033Z",
     "start_time": "2024-01-25T10:55:49.370243Z"
    }
   },
   "outputs": [
    {
     "data": {
      "text/html": [
       "<div>\n",
       "<style scoped>\n",
       "    .dataframe tbody tr th:only-of-type {\n",
       "        vertical-align: middle;\n",
       "    }\n",
       "\n",
       "    .dataframe tbody tr th {\n",
       "        vertical-align: top;\n",
       "    }\n",
       "\n",
       "    .dataframe thead th {\n",
       "        text-align: right;\n",
       "    }\n",
       "</style>\n",
       "<table border=\"1\" class=\"dataframe\">\n",
       "  <thead>\n",
       "    <tr style=\"text-align: right;\">\n",
       "      <th></th>\n",
       "      <th>Ind_ID</th>\n",
       "      <th>GENDER</th>\n",
       "      <th>Car_Owner</th>\n",
       "      <th>Propert_Owner</th>\n",
       "      <th>CHILDREN</th>\n",
       "      <th>Annual_income</th>\n",
       "      <th>Type_Income</th>\n",
       "      <th>EDUCATION</th>\n",
       "      <th>Marital_status</th>\n",
       "      <th>Housing_type</th>\n",
       "      <th>Employed_days</th>\n",
       "      <th>Type_Occupation</th>\n",
       "      <th>Family_Members</th>\n",
       "      <th>label</th>\n",
       "      <th>Age</th>\n",
       "    </tr>\n",
       "  </thead>\n",
       "  <tbody>\n",
       "    <tr>\n",
       "      <th>0</th>\n",
       "      <td>5143231</td>\n",
       "      <td>F</td>\n",
       "      <td>Y</td>\n",
       "      <td>Y</td>\n",
       "      <td>1</td>\n",
       "      <td>1575000.0</td>\n",
       "      <td>Commercial associate</td>\n",
       "      <td>Higher education</td>\n",
       "      <td>Single / not married</td>\n",
       "      <td>House / apartment</td>\n",
       "      <td>-0.679178</td>\n",
       "      <td>Managers</td>\n",
       "      <td>2</td>\n",
       "      <td>0</td>\n",
       "      <td>27.0</td>\n",
       "    </tr>\n",
       "    <tr>\n",
       "      <th>1</th>\n",
       "      <td>5143235</td>\n",
       "      <td>F</td>\n",
       "      <td>Y</td>\n",
       "      <td>Y</td>\n",
       "      <td>1</td>\n",
       "      <td>1575000.0</td>\n",
       "      <td>Commercial associate</td>\n",
       "      <td>Higher education</td>\n",
       "      <td>Single / not married</td>\n",
       "      <td>House / apartment</td>\n",
       "      <td>-0.679178</td>\n",
       "      <td>Managers</td>\n",
       "      <td>2</td>\n",
       "      <td>0</td>\n",
       "      <td>27.0</td>\n",
       "    </tr>\n",
       "    <tr>\n",
       "      <th>2</th>\n",
       "      <td>5090470</td>\n",
       "      <td>M</td>\n",
       "      <td>N</td>\n",
       "      <td>Y</td>\n",
       "      <td>1</td>\n",
       "      <td>900000.0</td>\n",
       "      <td>Working</td>\n",
       "      <td>Secondary / secondary special</td>\n",
       "      <td>Married</td>\n",
       "      <td>House / apartment</td>\n",
       "      <td>-1.235342</td>\n",
       "      <td>Laborers</td>\n",
       "      <td>3</td>\n",
       "      <td>0</td>\n",
       "      <td>42.0</td>\n",
       "    </tr>\n",
       "    <tr>\n",
       "      <th>3</th>\n",
       "      <td>5079016</td>\n",
       "      <td>M</td>\n",
       "      <td>Y</td>\n",
       "      <td>Y</td>\n",
       "      <td>2</td>\n",
       "      <td>900000.0</td>\n",
       "      <td>Commercial associate</td>\n",
       "      <td>Higher education</td>\n",
       "      <td>Married</td>\n",
       "      <td>House / apartment</td>\n",
       "      <td>-0.273973</td>\n",
       "      <td>Managers</td>\n",
       "      <td>4</td>\n",
       "      <td>0</td>\n",
       "      <td>27.0</td>\n",
       "    </tr>\n",
       "    <tr>\n",
       "      <th>4</th>\n",
       "      <td>5079017</td>\n",
       "      <td>M</td>\n",
       "      <td>Y</td>\n",
       "      <td>Y</td>\n",
       "      <td>2</td>\n",
       "      <td>900000.0</td>\n",
       "      <td>Commercial associate</td>\n",
       "      <td>Higher education</td>\n",
       "      <td>Married</td>\n",
       "      <td>House / apartment</td>\n",
       "      <td>-0.273973</td>\n",
       "      <td>Managers</td>\n",
       "      <td>4</td>\n",
       "      <td>0</td>\n",
       "      <td>27.0</td>\n",
       "    </tr>\n",
       "  </tbody>\n",
       "</table>\n",
       "</div>"
      ],
      "text/plain": [
       "    Ind_ID GENDER Car_Owner Propert_Owner  CHILDREN  Annual_income  \\\n",
       "0  5143231      F         Y             Y         1      1575000.0   \n",
       "1  5143235      F         Y             Y         1      1575000.0   \n",
       "2  5090470      M         N             Y         1       900000.0   \n",
       "3  5079016      M         Y             Y         2       900000.0   \n",
       "4  5079017      M         Y             Y         2       900000.0   \n",
       "\n",
       "            Type_Income                      EDUCATION        Marital_status  \\\n",
       "0  Commercial associate               Higher education  Single / not married   \n",
       "1  Commercial associate               Higher education  Single / not married   \n",
       "2               Working  Secondary / secondary special               Married   \n",
       "3  Commercial associate               Higher education               Married   \n",
       "4  Commercial associate               Higher education               Married   \n",
       "\n",
       "        Housing_type  Employed_days Type_Occupation  Family_Members  label  \\\n",
       "0  House / apartment      -0.679178        Managers               2      0   \n",
       "1  House / apartment      -0.679178        Managers               2      0   \n",
       "2  House / apartment      -1.235342        Laborers               3      0   \n",
       "3  House / apartment      -0.273973        Managers               4      0   \n",
       "4  House / apartment      -0.273973        Managers               4      0   \n",
       "\n",
       "    Age  \n",
       "0  27.0  \n",
       "1  27.0  \n",
       "2  42.0  \n",
       "3  27.0  \n",
       "4  27.0  "
      ]
     },
     "execution_count": 136,
     "metadata": {},
     "output_type": "execute_result"
    }
   ],
   "source": [
    "conn.execute(\"select * from df order by Annual_income DESC limit 5\").fetchdf()"
   ]
  },
  {
   "cell_type": "markdown",
   "id": "f0b61c84",
   "metadata": {
    "ExecuteTime": {
     "end_time": "2024-01-25T08:35:42.620655Z",
     "start_time": "2024-01-25T08:35:42.565402Z"
    }
   },
   "source": [
    "5. How many married people are having bad credit?\n",
    "\n"
   ]
  },
  {
   "cell_type": "code",
   "execution_count": 137,
   "id": "1ec707ec",
   "metadata": {
    "ExecuteTime": {
     "end_time": "2024-01-25T10:55:52.638651Z",
     "start_time": "2024-01-25T10:55:52.600313Z"
    }
   },
   "outputs": [
    {
     "data": {
      "text/html": [
       "<div>\n",
       "<style scoped>\n",
       "    .dataframe tbody tr th:only-of-type {\n",
       "        vertical-align: middle;\n",
       "    }\n",
       "\n",
       "    .dataframe tbody tr th {\n",
       "        vertical-align: top;\n",
       "    }\n",
       "\n",
       "    .dataframe thead th {\n",
       "        text-align: right;\n",
       "    }\n",
       "</style>\n",
       "<table border=\"1\" class=\"dataframe\">\n",
       "  <thead>\n",
       "    <tr style=\"text-align: right;\">\n",
       "      <th></th>\n",
       "      <th>number married people having bad credit</th>\n",
       "    </tr>\n",
       "  </thead>\n",
       "  <tbody>\n",
       "    <tr>\n",
       "      <th>0</th>\n",
       "      <td>114</td>\n",
       "    </tr>\n",
       "  </tbody>\n",
       "</table>\n",
       "</div>"
      ],
      "text/plain": [
       "   number married people having bad credit\n",
       "0                                      114"
      ]
     },
     "execution_count": 137,
     "metadata": {},
     "output_type": "execute_result"
    }
   ],
   "source": [
    "conn.execute(\"select count(Ind_ID) as 'number married people having bad credit' from df where Marital_status='Married' and label=1 \").fetchdf()"
   ]
  },
  {
   "cell_type": "markdown",
   "id": "4985b6dd",
   "metadata": {},
   "source": [
    "6.What is the highest education level and what is the total count?"
   ]
  },
  {
   "cell_type": "code",
   "execution_count": 138,
   "id": "a1d05246",
   "metadata": {
    "ExecuteTime": {
     "end_time": "2024-01-25T10:55:54.617579Z",
     "start_time": "2024-01-25T10:55:54.578466Z"
    }
   },
   "outputs": [
    {
     "data": {
      "text/html": [
       "<div>\n",
       "<style scoped>\n",
       "    .dataframe tbody tr th:only-of-type {\n",
       "        vertical-align: middle;\n",
       "    }\n",
       "\n",
       "    .dataframe tbody tr th {\n",
       "        vertical-align: top;\n",
       "    }\n",
       "\n",
       "    .dataframe thead th {\n",
       "        text-align: right;\n",
       "    }\n",
       "</style>\n",
       "<table border=\"1\" class=\"dataframe\">\n",
       "  <thead>\n",
       "    <tr style=\"text-align: right;\">\n",
       "      <th></th>\n",
       "      <th>max_education</th>\n",
       "      <th>count_max_education</th>\n",
       "    </tr>\n",
       "  </thead>\n",
       "  <tbody>\n",
       "    <tr>\n",
       "      <th>0</th>\n",
       "      <td>Secondary / secondary special</td>\n",
       "      <td>1548</td>\n",
       "    </tr>\n",
       "  </tbody>\n",
       "</table>\n",
       "</div>"
      ],
      "text/plain": [
       "                   max_education  count_max_education\n",
       "0  Secondary / secondary special                 1548"
      ]
     },
     "execution_count": 138,
     "metadata": {},
     "output_type": "execute_result"
    }
   ],
   "source": [
    " conn.execute(\"select max(EDUCATION) as max_education, Count(*) as count_max_education from df\").fetchdf()\n"
   ]
  },
  {
   "cell_type": "markdown",
   "id": "f51a19de",
   "metadata": {},
   "source": [
    "7.Between married males and females, who is having more bad credit? \n",
    "\n",
    "\n"
   ]
  },
  {
   "cell_type": "code",
   "execution_count": 146,
   "id": "a5ecf9c5",
   "metadata": {
    "ExecuteTime": {
     "end_time": "2024-01-25T11:05:04.731792Z",
     "start_time": "2024-01-25T11:05:04.685885Z"
    }
   },
   "outputs": [
    {
     "name": "stdout",
     "output_type": "stream",
     "text": [
      "   max_bad_credit_count GENDER\n",
      "0                    51      M\n",
      "1                    63      F\n"
     ]
    }
   ],
   "source": [
    "q1 = \"\"\"\n",
    "WITH c1 AS (\n",
    "    SELECT GENDER, COUNT(*) AS bad_credit_count\n",
    "    FROM df\n",
    "    WHERE Marital_status = 'Married' AND label = 1\n",
    "    GROUP BY GENDER\n",
    ")\n",
    "SELECT MAX(bad_credit_count) AS max_bad_credit_count, GENDER\n",
    "FROM c1 group by GENDER\n",
    "\n",
    "\"\"\"\n",
    "\n",
    "result = conn.execute(q1).fetchdf()\n",
    "print(result)\n"
   ]
  },
  {
   "cell_type": "code",
   "execution_count": null,
   "id": "aeb58fc3",
   "metadata": {},
   "outputs": [],
   "source": []
  },
  {
   "cell_type": "code",
   "execution_count": null,
   "id": "b87d4e60",
   "metadata": {},
   "outputs": [],
   "source": []
  },
  {
   "cell_type": "code",
   "execution_count": null,
   "id": "5f2c93cc",
   "metadata": {},
   "outputs": [],
   "source": []
  },
  {
   "cell_type": "code",
   "execution_count": null,
   "id": "3209d681",
   "metadata": {},
   "outputs": [],
   "source": []
  },
  {
   "cell_type": "code",
   "execution_count": null,
   "id": "e3968f4e",
   "metadata": {},
   "outputs": [],
   "source": []
  },
  {
   "cell_type": "code",
   "execution_count": null,
   "id": "afa2e65d",
   "metadata": {},
   "outputs": [],
   "source": []
  },
  {
   "cell_type": "code",
   "execution_count": null,
   "id": "f099881c",
   "metadata": {},
   "outputs": [],
   "source": []
  },
  {
   "cell_type": "code",
   "execution_count": null,
   "id": "1aa7caf4",
   "metadata": {},
   "outputs": [],
   "source": []
  },
  {
   "cell_type": "code",
   "execution_count": null,
   "id": "d91261f6",
   "metadata": {},
   "outputs": [],
   "source": []
  },
  {
   "cell_type": "code",
   "execution_count": null,
   "id": "2b78420e",
   "metadata": {},
   "outputs": [],
   "source": []
  },
  {
   "cell_type": "code",
   "execution_count": null,
   "id": "93b7e480",
   "metadata": {},
   "outputs": [],
   "source": []
  },
  {
   "cell_type": "code",
   "execution_count": null,
   "id": "62543f87",
   "metadata": {},
   "outputs": [],
   "source": []
  },
  {
   "cell_type": "code",
   "execution_count": null,
   "id": "2658e0a5",
   "metadata": {},
   "outputs": [],
   "source": []
  },
  {
   "cell_type": "code",
   "execution_count": null,
   "id": "5c44de6a",
   "metadata": {},
   "outputs": [],
   "source": []
  },
  {
   "cell_type": "code",
   "execution_count": null,
   "id": "d076d0e4",
   "metadata": {},
   "outputs": [],
   "source": []
  },
  {
   "cell_type": "code",
   "execution_count": null,
   "id": "1f2fb7ef",
   "metadata": {},
   "outputs": [],
   "source": []
  },
  {
   "cell_type": "code",
   "execution_count": null,
   "id": "813fac81",
   "metadata": {},
   "outputs": [],
   "source": []
  },
  {
   "cell_type": "code",
   "execution_count": null,
   "id": "eef50d22",
   "metadata": {},
   "outputs": [],
   "source": []
  },
  {
   "cell_type": "code",
   "execution_count": null,
   "id": "8689678c",
   "metadata": {},
   "outputs": [],
   "source": []
  },
  {
   "cell_type": "code",
   "execution_count": null,
   "id": "bb8acc80",
   "metadata": {},
   "outputs": [],
   "source": []
  },
  {
   "cell_type": "code",
   "execution_count": null,
   "id": "fc0ec8a7",
   "metadata": {},
   "outputs": [],
   "source": []
  },
  {
   "cell_type": "code",
   "execution_count": null,
   "id": "fa9bc821",
   "metadata": {},
   "outputs": [],
   "source": []
  },
  {
   "cell_type": "code",
   "execution_count": null,
   "id": "9cda710b",
   "metadata": {},
   "outputs": [],
   "source": []
  },
  {
   "cell_type": "code",
   "execution_count": null,
   "id": "c24a7cf3",
   "metadata": {},
   "outputs": [],
   "source": []
  },
  {
   "cell_type": "code",
   "execution_count": null,
   "id": "59daf2e6",
   "metadata": {},
   "outputs": [],
   "source": []
  },
  {
   "cell_type": "code",
   "execution_count": null,
   "id": "eb9a4b2d",
   "metadata": {},
   "outputs": [],
   "source": []
  },
  {
   "cell_type": "code",
   "execution_count": null,
   "id": "e8deca27",
   "metadata": {},
   "outputs": [],
   "source": []
  },
  {
   "cell_type": "code",
   "execution_count": null,
   "id": "28cf6f95",
   "metadata": {},
   "outputs": [],
   "source": []
  },
  {
   "cell_type": "code",
   "execution_count": null,
   "id": "fb6797a6",
   "metadata": {},
   "outputs": [],
   "source": []
  },
  {
   "cell_type": "code",
   "execution_count": null,
   "id": "bcf059b4",
   "metadata": {},
   "outputs": [],
   "source": []
  },
  {
   "cell_type": "code",
   "execution_count": null,
   "id": "1a88ff8a",
   "metadata": {},
   "outputs": [],
   "source": []
  },
  {
   "cell_type": "code",
   "execution_count": null,
   "id": "da2356f2",
   "metadata": {},
   "outputs": [],
   "source": []
  },
  {
   "cell_type": "code",
   "execution_count": null,
   "id": "3cb8dacf",
   "metadata": {},
   "outputs": [],
   "source": []
  },
  {
   "cell_type": "code",
   "execution_count": null,
   "id": "44bfaad8",
   "metadata": {},
   "outputs": [],
   "source": []
  },
  {
   "cell_type": "code",
   "execution_count": null,
   "id": "33e82b81",
   "metadata": {},
   "outputs": [],
   "source": []
  }
 ],
 "metadata": {
  "kernelspec": {
   "display_name": "Python 3 (ipykernel)",
   "language": "python",
   "name": "python3"
  },
  "language_info": {
   "codemirror_mode": {
    "name": "ipython",
    "version": 3
   },
   "file_extension": ".py",
   "mimetype": "text/x-python",
   "name": "python",
   "nbconvert_exporter": "python",
   "pygments_lexer": "ipython3",
   "version": "3.11.4"
  }
 },
 "nbformat": 4,
 "nbformat_minor": 5
}
